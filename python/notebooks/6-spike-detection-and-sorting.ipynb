{
 "cells": [
  {
   "cell_type": "markdown",
   "metadata": {},
   "source": [
    "# Using Spyking Circus"
   ]
  },
  {
   "cell_type": "code",
   "execution_count": 1,
   "metadata": {},
   "outputs": [],
   "source": [
    "%load_ext autoreload\n",
    "import os\n",
    "import numpy as np\n",
    "import scipy.io as sio\n",
    "import h5py\n",
    "import matplotlib.pyplot as plt \n",
    "\n",
    "# signal processing \n",
    "import scipy.signal as ssignal\n",
    "\n",
    "# fancy plot stuff \n",
    "import sciplotlib.style as splstyle\n",
    "import sciplotlib.polish as splpolish \n",
    "\n",
    "import pandas as pd\n",
    "import sys\n",
    "\n",
    "sys.path.insert(1, '/home/timsit/mecp2/python/')\n",
    "import mea_util \n",
    "import plot_grid"
   ]
  },
  {
   "cell_type": "markdown",
   "metadata": {},
   "source": [
    "## Load matlab file"
   ]
  },
  {
   "cell_type": "code",
   "execution_count": 2,
   "metadata": {},
   "outputs": [
    {
     "name": "stderr",
     "output_type": "stream",
     "text": [
      "/home/timsit/.conda/envs/mecp2/lib/python3.7/site-packages/ipykernel_launcher.py:2: H5pyDeprecationWarning: The default file mode will change to 'r' (read-only) in h5py 3.0. To suppress this warning, pass the mode you need to h5py.File(), or set the global default h5.get_config().default_file_mode, or set the environment variable H5PY_DEFAULT_READONLY=1. Available modes are: 'r', 'r+', 'w', 'w-'/'x', 'a'. See the docs for details.\n",
      "  \n"
     ]
    }
   ],
   "source": [
    "mat_filepath = '/home/timsit/mecp2/data/PAT200219_2C_DIV17.mat'\n",
    "f = h5py.File(mat_filepath)\n",
    "data_dict = {}\n",
    "for k, v in f.items():\n",
    "    data_dict[k] = np.array(v)"
   ]
  },
  {
   "cell_type": "code",
   "execution_count": 4,
   "metadata": {},
   "outputs": [
    {
     "data": {
      "text/plain": [
       "array([[47., 48., 46., 45., 38., 37., 28., 36., 27., 17., 26., 16., 35.,\n",
       "        25., 15., 14., 24., 34., 13., 23., 12., 22., 33., 21., 32., 31.,\n",
       "        44., 43., 41., 42., 52., 51., 53., 54., 61., 62., 71., 63., 72.,\n",
       "        82., 73., 83., 64., 74., 84., 85., 75., 65., 86., 76., 87., 77.,\n",
       "        66., 78., 67., 68., 55., 56., 58., 57.]])"
      ]
     },
     "execution_count": 4,
     "metadata": {},
     "output_type": "execute_result"
    }
   ],
   "source": []
  },
  {
   "cell_type": "code",
   "execution_count": 100,
   "metadata": {},
   "outputs": [
    {
     "name": "stderr",
     "output_type": "stream",
     "text": [
      "/home/timsit/.conda/envs/mecp2/lib/python3.7/site-packages/ipykernel_launcher.py:4: H5pyDeprecationWarning: The default file mode will change to 'r' (read-only) in h5py 3.0. To suppress this warning, pass the mode you need to h5py.File(), or set the global default h5.get_config().default_file_mode, or set the environment variable H5PY_DEFAULT_READONLY=1. Available modes are: 'r', 'r+', 'w', 'w-'/'x', 'a'. See the docs for details.\n",
      "  after removing the cwd from sys.path.\n"
     ]
    },
    {
     "ename": "NameError",
     "evalue": "name 'original_file_name' is not defined",
     "output_type": "error",
     "traceback": [
      "\u001b[0;31m---------------------------------------------------------------------------\u001b[0m",
      "\u001b[0;31mNameError\u001b[0m                                 Traceback (most recent call last)",
      "\u001b[0;32m<ipython-input-100-6964bd73e253>\u001b[0m in \u001b[0;36m<module>\u001b[0;34m\u001b[0m\n\u001b[1;32m      1\u001b[0m \u001b[0mmat_filepath\u001b[0m \u001b[0;34m=\u001b[0m \u001b[0;34m'/home/timsit/mecp2/data/PAT200219_2C_DIV170002.mat'\u001b[0m\u001b[0;34m\u001b[0m\u001b[0;34m\u001b[0m\u001b[0m\n\u001b[0;32m----> 2\u001b[0;31m \u001b[0mmea_mat_to_numpy\u001b[0m\u001b[0;34m(\u001b[0m\u001b[0mmat_filepath\u001b[0m\u001b[0;34m)\u001b[0m\u001b[0;34m\u001b[0m\u001b[0;34m\u001b[0m\u001b[0m\n\u001b[0m",
      "\u001b[0;32m<ipython-input-99-37cf45622f92>\u001b[0m in \u001b[0;36mmea_mat_to_numpy\u001b[0;34m(mat_filepath, verbose)\u001b[0m\n\u001b[1;32m     16\u001b[0m     \u001b[0mnp\u001b[0m\u001b[0;34m.\u001b[0m\u001b[0msave\u001b[0m\u001b[0;34m(\u001b[0m\u001b[0moriginal_filename\u001b[0m \u001b[0;34m+\u001b[0m \u001b[0;34m'.npy'\u001b[0m\u001b[0;34m,\u001b[0m \u001b[0msorted_data_matrix\u001b[0m\u001b[0;34m)\u001b[0m\u001b[0;34m\u001b[0m\u001b[0;34m\u001b[0m\u001b[0m\n\u001b[1;32m     17\u001b[0m \u001b[0;34m\u001b[0m\u001b[0m\n\u001b[0;32m---> 18\u001b[0;31m     \u001b[0mprint\u001b[0m\u001b[0;34m(\u001b[0m\u001b[0;34m'File succesfully saved to %s'\u001b[0m \u001b[0;34m%\u001b[0m \u001b[0;34m(\u001b[0m\u001b[0moriginal_file_name\u001b[0m \u001b[0;34m+\u001b[0m \u001b[0;34m'.npy'\u001b[0m\u001b[0;34m)\u001b[0m\u001b[0;34m)\u001b[0m\u001b[0;34m\u001b[0m\u001b[0;34m\u001b[0m\u001b[0m\n\u001b[0m\u001b[1;32m     19\u001b[0m \u001b[0;34m\u001b[0m\u001b[0m\n\u001b[1;32m     20\u001b[0m \u001b[0;34m\u001b[0m\u001b[0m\n",
      "\u001b[0;31mNameError\u001b[0m: name 'original_file_name' is not defined"
     ]
    }
   ],
   "source": [
    "mat_filepath = '/home/timsit/mecp2/data/PAT200219_2C_DIV170002.mat'\n",
    "mea_util.mea_mat_to_numpy(mat_filepath)"
   ]
  },
  {
   "cell_type": "markdown",
   "metadata": {},
   "source": [
    "## Make probe file"
   ]
  },
  {
   "cell_type": "markdown",
   "metadata": {},
   "source": [
    "see: https://spyking-circus.readthedocs.io/en/latest/code/probe.html\n",
    "\n",
    "For MEA with 252 channels, a spike can usually be seen in a physical radius of 250 uM"
   ]
  },
  {
   "cell_type": "markdown",
   "metadata": {},
   "source": [
    "Interelectrode distance is 200 uM I think. Assuming we are using the 60tMEA200/30iR-ITO (page 18).\n",
    "See section 4.18 for the layout: https://www.multichannelsystems.com/sites/multichannelsystems.com/files/documents/manuals/MEA_Manual.pdf"
   ]
  },
  {
   "cell_type": "code",
   "execution_count": null,
   "metadata": {},
   "outputs": [],
   "source": [
    "probe_file_text = \"\"\"\n",
    "total_nb_channels = 60\n",
    "radius = 250\n",
    "\n",
    "channel_groups = {\n",
    "    1: {\n",
    "        'channels': list([12, 13, 14, 15, 16, 17, \n",
    "                          21, 22, 23, 24, 25, 26, 27, 28,\n",
    "                          31, 32, 33, 34, 35, 36, 37, 38, \n",
    "                          41, 42, 43, 44, 45, 46, 47, 48,\n",
    "                          51, 52, 53, 54, 55, 56, 57, 58,\n",
    "                          61, 62, 63, 64, 65, 66, 67, 68,\n",
    "                          71, 72, 73, 74, 75, 76, 77, 78,\n",
    "                          82, 83, 84, 85, 86, 87])\n",
    "        'graph': [],\n",
    "        'geometry': {\n",
    "            17: [0.0, 200.0],\n",
    "            16: [0.0, 400.0],\n",
    "            15: [0.0, 600.0],\n",
    "            14: [0.0, 800.0],\n",
    "            13: [0.0, 1000.0],\n",
    "            12: [0.0, 1200.0],\n",
    "            28: [200.0, 0.0],\n",
    "            27: [200.0, 200.0],\n",
    "            26: [200.0, 400.0],\n",
    "            25: [200.0, 600.0],\n",
    "            24: [200.0, 800.0],\n",
    "            23: [200.0, 1000.0],\n",
    "            22: [200.0, 1200.0],\n",
    "            21: [200.0, 1400.0], \n",
    "            38: [400.0, 0.0],\n",
    "            37: [400.0, 200.0],\n",
    "            36: [400.0, 400.0],\n",
    "            35: [400.0, 600.0],\n",
    "            34: [400.0, 800.0], \n",
    "            33: [400.0, 1000.0],\n",
    "            32: [400.0, 1200.0],\n",
    "            31: [400.0, 1400.0],\n",
    "            48: [600.0, 0.0],\n",
    "            47: [600.0, 200.0],\n",
    "            46: [600.0, 400.0],\n",
    "            45: [600.0, 600.0],\n",
    "            44: [600.0, 800.0],\n",
    "            43: [600.0, 1000.0],\n",
    "            42: [600.0, 1200.0],\n",
    "            41: [600.0, 1400.0],\n",
    "            58: [800.0, 0.0],\n",
    "            57: [800.0, 200.0],\n",
    "            56: [800.0, 400.0],\n",
    "            55: [800.0, 600.0],\n",
    "            54: [800.0, 800.0],\n",
    "            53: [800.0, 1000.0], \n",
    "            52: [800.0, 1200.0],\n",
    "            51: [800.0, 1400.0],\n",
    "            68: [1000.0, 0.0],\n",
    "            67: [1000.0, 200.0],\n",
    "            66: [1000.0, 400.0],\n",
    "            65: [1000.0, 600.0],\n",
    "            64: [1000.0, 800.0],\n",
    "            63: [1000.0, 1000.0],\n",
    "            62: [1000.0, 1200.0],\n",
    "            61: [1000.0, 1400.0],\n",
    "            78: [1200.0, 0.0],\n",
    "            77: [1200.0, 200.0],\n",
    "            76: [1200.0, 400.0],\n",
    "            75: [1200.0, 600.0],\n",
    "            74: [1200.0, 800.0],\n",
    "            73: [1200.0, 1000.0],\n",
    "            72: [1200.0, 1200.0],\n",
    "            71: [1200.0, 1400.0],\n",
    "            87: [1400.0, 200.0],\n",
    "            86: [1400.0, 400.0],\n",
    "            85: [1400.0, 600.0],\n",
    "            84: [1400.0, 800.0],\n",
    "            83: [1400.0, 1000.0],\n",
    "            82: [1400.0, 1200.0]\n",
    "        }\n",
    "        \n",
    "    }\n",
    "\n",
    "\n",
    "}\n",
    "\n",
    "\n",
    "\"\"\""
   ]
  },
  {
   "cell_type": "code",
   "execution_count": null,
   "metadata": {},
   "outputs": [],
   "source": [
    "# new updated probe file \n",
    "\n",
    "total_nb_channels = 60\n",
    "radius = 250\n",
    "\n",
    "channel_groups = {\n",
    "    1: {\n",
    "        'channels': range(60),\n",
    "        'graph': [],\n",
    "        'geometry': {\n",
    "            0: [0.0, 1200.0],\n",
    "            1: [0.0, 1000.0],\n",
    "            2: [0.0, 800.0],\n",
    "            3: [0.0, 600.0],\n",
    "            4: [0.0, 400.0],\n",
    "            5: [0.0, 200.0],\n",
    "            6: [200.0, 1400.0], \n",
    "            7: [200.0, 1200.0],\n",
    "            8: [200.0, 1000.0],\n",
    "            9: [200.0, 800.0],\n",
    "            10: [200.0, 600.0],\n",
    "            11: [200.0, 400.0],\n",
    "            12: [200.0, 200.0],\n",
    "            13: [200.0, 0.0],\n",
    "            14: [400.0, 1400.0],\n",
    "            15: [400.0, 1200.0],\n",
    "            16: [400.0, 1000.0],\n",
    "            17: [400.0, 800.0], \n",
    "            18: [400.0, 600.0],\n",
    "            19: [400.0, 400.0],\n",
    "            20: [400.0, 200.0],\n",
    "            21: [400.0, 0.0],\n",
    "            22: [600.0, 1400.0],     \n",
    "            23: [600.0, 1200.0],\n",
    "            24: [600.0, 1000.0],\n",
    "            25: [600.0, 800.0],\n",
    "            26: [600.0, 600.0],\n",
    "            27: [600.0, 400.0],\n",
    "            28: [600.0, 200.0],\n",
    "            29: [600.0, 0.0],\n",
    "            30: [800.0, 1400.0],\n",
    "            31: [800.0, 1200.0],\n",
    "            32: [800.0, 1000.0], \n",
    "            33: [800.0, 800.0],\n",
    "            34: [800.0, 600.0],\n",
    "            35: [800.0, 400.0],\n",
    "            36: [800.0, 200.0],\n",
    "            37: [800.0, 0.0],\n",
    "            38: [1000.0, 1400.0],\n",
    "            39: [1000.0, 1200.0],\n",
    "            40: [1000.0, 1000.0],\n",
    "            41: [1000.0, 800.0],\n",
    "            42: [1000.0, 600.0],\n",
    "            43: [1000.0, 400.0],\n",
    "            44: [1000.0, 200.0],\n",
    "            45: [1000.0, 0.0],\n",
    "            46: [1200.0, 1400.0],\n",
    "            47: [1200.0, 1200.0],\n",
    "            48: [1200.0, 1000.0],\n",
    "            49: [1200.0, 800.0],\n",
    "            50: [1200.0, 600.0],\n",
    "            51: [1200.0, 400.0],\n",
    "            52: [1200.0, 200.0],\n",
    "            53: [1200.0, 0.0],\n",
    "            54: [1400.0, 1200.0],\n",
    "            55: [1400.0, 1000.0],\n",
    "            56: [1400.0, 800.0],\n",
    "            57: [1400.0, 600.0],\n",
    "            58: [1400.0, 400.0],\n",
    "            59: [1400.0, 200.0],\n",
    "            \n",
    "        }\n",
    "        \n",
    "    }\n",
    "\n",
    "\n",
    "}\n"
   ]
  },
  {
   "cell_type": "markdown",
   "metadata": {},
   "source": [
    "## Make numpy file"
   ]
  },
  {
   "cell_type": "code",
   "execution_count": 19,
   "metadata": {},
   "outputs": [
    {
     "data": {
      "text/plain": [
       "(3002500,)"
      ]
     },
     "execution_count": 19,
     "metadata": {},
     "output_type": "execute_result"
    }
   ],
   "source": [
    "np.shape(data_dict['dat'][0])"
   ]
  },
  {
   "cell_type": "code",
   "execution_count": 21,
   "metadata": {},
   "outputs": [
    {
     "ename": "ValueError",
     "evalue": "setting an array element with a sequence.",
     "output_type": "error",
     "traceback": [
      "\u001b[0;31m---------------------------------------------------------------------------\u001b[0m",
      "\u001b[0;31mTypeError\u001b[0m                                 Traceback (most recent call last)",
      "\u001b[0;31mTypeError\u001b[0m: only size-1 arrays can be converted to Python scalars",
      "\nThe above exception was the direct cause of the following exception:\n",
      "\u001b[0;31mValueError\u001b[0m                                Traceback (most recent call last)",
      "\u001b[0;32m<ipython-input-21-5ffca9c396d6>\u001b[0m in \u001b[0;36m<module>\u001b[0;34m\u001b[0m\n\u001b[1;32m      4\u001b[0m     ],\n\u001b[1;32m      5\u001b[0m     dtype=[\n\u001b[0;32m----> 6\u001b[0;31m         \u001b[0;34m(\u001b[0m\u001b[0;34m'sampling_rate'\u001b[0m\u001b[0;34m,\u001b[0m \u001b[0;34m'float32'\u001b[0m\u001b[0;34m)\u001b[0m\u001b[0;34m,\u001b[0m \u001b[0;34m(\u001b[0m\u001b[0;34m'data'\u001b[0m\u001b[0;34m,\u001b[0m \u001b[0;34m'float32'\u001b[0m\u001b[0;34m)\u001b[0m\u001b[0;34m\u001b[0m\u001b[0;34m\u001b[0m\u001b[0m\n\u001b[0m\u001b[1;32m      7\u001b[0m     ]\n\u001b[1;32m      8\u001b[0m ) \n",
      "\u001b[0;31mValueError\u001b[0m: setting an array element with a sequence."
     ]
    }
   ],
   "source": [
    "data = np.array(\n",
    "    [\n",
    "        (data_dict['fs'][0][0], data_dict['dat'])\n",
    "    ],\n",
    "    dtype=[\n",
    "        ('sampling_rate', 'float32'), ('data', 'float32')\n",
    "    ]\n",
    ") "
   ]
  },
  {
   "cell_type": "code",
   "execution_count": 9,
   "metadata": {},
   "outputs": [],
   "source": [
    "original_filename = mat_filepath.split('.')[0]"
   ]
  },
  {
   "cell_type": "code",
   "execution_count": 18,
   "metadata": {},
   "outputs": [],
   "source": [
    "channel_sorted_idx = np.argsort(data_dict['channels'][0])\n",
    "sorted_data_matrix = data_dict['dat'][channel_sorted_idx, :]"
   ]
  },
  {
   "cell_type": "code",
   "execution_count": 17,
   "metadata": {},
   "outputs": [
    {
     "name": "stdout",
     "output_type": "stream",
     "text": [
      "Sorted channel numbers\n",
      "[12. 13. 14. 15. 16. 17. 21. 22. 23. 24. 25. 26. 27. 28. 31. 32. 33. 34.\n",
      " 35. 36. 37. 38. 41. 42. 43. 44. 45. 46. 47. 48. 51. 52. 53. 54. 55. 56.\n",
      " 57. 58. 61. 62. 63. 64. 65. 66. 67. 68. 71. 72. 73. 74. 75. 76. 77. 78.\n",
      " 82. 83. 84. 85. 86. 87.]\n"
     ]
    }
   ],
   "source": [
    "print('Sorted channel numbers')\n",
    "print(data_dict['channels'][0][channel_sorted_idx])"
   ]
  },
  {
   "cell_type": "code",
   "execution_count": 21,
   "metadata": {},
   "outputs": [
    {
     "data": {
      "text/plain": [
       "'/home/timsit/mecp2/data/PAT200219_2C_DIV17'"
      ]
     },
     "execution_count": 21,
     "metadata": {},
     "output_type": "execute_result"
    }
   ],
   "source": [
    "original_filename"
   ]
  },
  {
   "cell_type": "code",
   "execution_count": 20,
   "metadata": {},
   "outputs": [],
   "source": [
    "np.save(original_filename + '.npy', sorted_data_matrix)"
   ]
  },
  {
   "cell_type": "markdown",
   "metadata": {},
   "source": [
    "## Make compatible HDF5 file "
   ]
  },
  {
   "cell_type": "markdown",
   "metadata": {},
   "source": [
    "Multichannel System HDF5 data format: https://www.multichannelsystems.com/sites/multichannelsystems.com/files/documents/manuals/HDF5%20MCS%20Raw%20Data%20Definition.pdf"
   ]
  },
  {
   "cell_type": "markdown",
   "metadata": {},
   "source": [
    "# Read the output from spyking circus"
   ]
  },
  {
   "cell_type": "code",
   "execution_count": null,
   "metadata": {},
   "outputs": [],
   "source": [
    "from circus.shared.parser import CircusParser\n",
    "from circus.shared.files import load_data\n",
    "from pylab import *\n",
    "params    = CircusParser('silico_0.dat')\n",
    "params.get_data_file()\n",
    "N_e       = params.getint('data', 'N_e') # The number of channels\n",
    "N_t       = params.getint('detection', 'N_t') # The temporal width of the template\n",
    "templates = load_data(params, 'templates') # To load the templates\n",
    "temp_i = templates[:, i].toarray().reshape(N_e, N_t) # To read the template i as a 2D matrix\n",
    "imshow(temp_i, aspect='auto')"
   ]
  },
  {
   "cell_type": "markdown",
   "metadata": {},
   "source": [
    "### Cluster file"
   ]
  },
  {
   "cell_type": "code",
   "execution_count": 237,
   "metadata": {},
   "outputs": [],
   "source": [
    "import h5py\n",
    "# cluster_file = '/home/timsit/mecp2/python/spike_detection/PAT200219_2C_DIV17/PAT200219_2C_DIV17.clusters-merged.hdf5'\n",
    "cluster_file = '/home/timsit/mecp2/data/PAT200219_2C_DIV170002/PAT200219_2C_DIV170002/PAT200219_2C_DIV170002.clusters-merged.hdf5'\n",
    "cluster = h5py.File(cluster_file, 'r')"
   ]
  },
  {
   "cell_type": "code",
   "execution_count": 242,
   "metadata": {},
   "outputs": [],
   "source": [
    "template_to_electrode_map = cluster['electrodes'][()]"
   ]
  },
  {
   "cell_type": "code",
   "execution_count": 234,
   "metadata": {},
   "outputs": [],
   "source": [
    "template_file = '/home/timsit/mecp2/data/PAT200219_2C_DIV170002/PAT200219_2C_DIV170002/PAT200219_2C_DIV170002.templates-merged.hdf5'\n",
    "template = h5py.File(template_file, 'r')"
   ]
  },
  {
   "cell_type": "code",
   "execution_count": 74,
   "metadata": {},
   "outputs": [
    {
     "data": {
      "text/plain": [
       "<KeysViewHDF5 ['limits', 'maxlag', 'maxoverlap', 'norms', 'purity', 'supports', 'temp_data', 'temp_shape', 'temp_x', 'temp_y', 'version']>"
      ]
     },
     "execution_count": 74,
     "metadata": {},
     "output_type": "execute_result"
    }
   ],
   "source": [
    "template.keys()"
   ]
  },
  {
   "cell_type": "code",
   "execution_count": 235,
   "metadata": {},
   "outputs": [],
   "source": [
    "template_support = template['supports'][()].astype(int)"
   ]
  },
  {
   "cell_type": "code",
   "execution_count": 236,
   "metadata": {},
   "outputs": [
    {
     "data": {
      "text/plain": [
       "<matplotlib.image.AxesImage at 0x7efb6bca08d0>"
      ]
     },
     "execution_count": 236,
     "metadata": {},
     "output_type": "execute_result"
    },
    {
     "data": {
      "image/png": "[encoded data removed]",
      "text/plain": [
       "<Figure size 432x288 with 1 Axes>"
      ]
     },
     "metadata": {
      "needs_background": "light"
     },
     "output_type": "display_data"
    }
   ],
   "source": [
    "plt.imshow(template_support)"
   ]
  },
  {
   "cell_type": "code",
   "execution_count": 233,
   "metadata": {},
   "outputs": [
    {
     "data": {
      "text/plain": [
       "[<matplotlib.lines.Line2D at 0x7efb6bd317d0>]"
      ]
     },
     "execution_count": 233,
     "metadata": {},
     "output_type": "execute_result"
    },
    {
     "data": {
      "image/png": "[encoded data removed]",
      "text/plain": [
       "<Figure size 432x288 with 1 Axes>"
      ]
     },
     "metadata": {
      "needs_background": "light"
     },
     "output_type": "display_data"
    }
   ],
   "source": [
    "fig, ax = plt.subplots()\n",
    "\n",
    "# the support seem to show where (which electrode) the cluster is detected\n",
    "cluster_idx = 0\n",
    "ax.plot(template['supports'][cluster_idx, :])\n"
   ]
  },
  {
   "cell_type": "markdown",
   "metadata": {},
   "source": [
    "### Spike sorting result"
   ]
  },
  {
   "cell_type": "code",
   "execution_count": 151,
   "metadata": {},
   "outputs": [],
   "source": [
    "# result_file = '/home/timsit/mecp2/python/spike_detection/PAT200219_2C_DIV17/PAT200219_2C_DIV17.result-merged.hdf5'\n",
    "result_file = '/home/timsit/mecp2/data/PAT200219_2C_DIV170002/PAT200219_2C_DIV170002/PAT200219_2C_DIV170002.result-merged.hdf5'\n",
    "spike_sorting_result = h5py.File(result_file, 'r')"
   ]
  },
  {
   "cell_type": "code",
   "execution_count": 153,
   "metadata": {},
   "outputs": [
    {
     "data": {
      "text/plain": [
       "<KeysViewHDF5 ['amplitudes', 'spiketimes']>"
      ]
     },
     "execution_count": 153,
     "metadata": {},
     "output_type": "execute_result"
    }
   ],
   "source": [
    "spike_sorting_result.keys()"
   ]
  },
  {
   "cell_type": "code",
   "execution_count": 157,
   "metadata": {},
   "outputs": [
    {
     "data": {
      "text/plain": [
       "<HDF5 group \"/spiketimes\" (69 members)>"
      ]
     },
     "execution_count": 157,
     "metadata": {},
     "output_type": "execute_result"
    }
   ],
   "source": [
    "spike_sorting_result['spiketimes']"
   ]
  },
  {
   "cell_type": "code",
   "execution_count": 245,
   "metadata": {},
   "outputs": [],
   "source": [
    "# make dataframe of the spike of each template \n",
    "template_spiketime_dict = dict()\n",
    "template_spiketime_dict['template'] = list()\n",
    "template_spiketime_dict['spiketime'] = list()\n",
    "template_spiketime_dict['electrode'] = list()\n",
    "\n",
    "\n",
    "\n",
    "fs = 25000\n",
    "for template_n, template_field in enumerate(spike_sorting_result['spiketimes']):\n",
    "    template_spiketimes = spike_sorting_result['spiketimes'][template_field][()]\n",
    "    template_spiketime_dict['template'].extend(np.repeat(template_n, len(template_spiketimes)))\n",
    "    template_spiketime_dict['spiketime'].extend(template_spiketimes / fs)\n",
    "    \n",
    "    # Add electrode number\n",
    "    electrode_num = template_to_electrode_map[template_n]\n",
    "    template_spiketime_dict['electrode'].extend(np.repeat(electrode_num, len(template_spiketimes)))\n",
    "\n",
    "template_spiketime_df = pd.DataFrame.from_dict(template_spiketime_dict)\n",
    "\n"
   ]
  },
  {
   "cell_type": "code",
   "execution_count": 246,
   "metadata": {},
   "outputs": [
    {
     "data": {
      "text/html": [
       "<div>\n",
       "<style scoped>\n",
       "    .dataframe tbody tr th:only-of-type {\n",
       "        vertical-align: middle;\n",
       "    }\n",
       "\n",
       "    .dataframe tbody tr th {\n",
       "        vertical-align: top;\n",
       "    }\n",
       "\n",
       "    .dataframe thead th {\n",
       "        text-align: right;\n",
       "    }\n",
       "</style>\n",
       "<table border=\"1\" class=\"dataframe\">\n",
       "  <thead>\n",
       "    <tr style=\"text-align: right;\">\n",
       "      <th></th>\n",
       "      <th>template</th>\n",
       "      <th>spiketime</th>\n",
       "      <th>electrode</th>\n",
       "    </tr>\n",
       "  </thead>\n",
       "  <tbody>\n",
       "    <tr>\n",
       "      <th>0</th>\n",
       "      <td>0</td>\n",
       "      <td>0.83432</td>\n",
       "      <td>0</td>\n",
       "    </tr>\n",
       "    <tr>\n",
       "      <th>1</th>\n",
       "      <td>0</td>\n",
       "      <td>1.01060</td>\n",
       "      <td>0</td>\n",
       "    </tr>\n",
       "    <tr>\n",
       "      <th>2</th>\n",
       "      <td>0</td>\n",
       "      <td>1.06120</td>\n",
       "      <td>0</td>\n",
       "    </tr>\n",
       "    <tr>\n",
       "      <th>3</th>\n",
       "      <td>0</td>\n",
       "      <td>1.38136</td>\n",
       "      <td>0</td>\n",
       "    </tr>\n",
       "    <tr>\n",
       "      <th>4</th>\n",
       "      <td>0</td>\n",
       "      <td>2.13840</td>\n",
       "      <td>0</td>\n",
       "    </tr>\n",
       "    <tr>\n",
       "      <th>...</th>\n",
       "      <td>...</td>\n",
       "      <td>...</td>\n",
       "      <td>...</td>\n",
       "    </tr>\n",
       "    <tr>\n",
       "      <th>43231</th>\n",
       "      <td>68</td>\n",
       "      <td>116.90112</td>\n",
       "      <td>59</td>\n",
       "    </tr>\n",
       "    <tr>\n",
       "      <th>43232</th>\n",
       "      <td>68</td>\n",
       "      <td>116.91368</td>\n",
       "      <td>59</td>\n",
       "    </tr>\n",
       "    <tr>\n",
       "      <th>43233</th>\n",
       "      <td>68</td>\n",
       "      <td>116.94180</td>\n",
       "      <td>59</td>\n",
       "    </tr>\n",
       "    <tr>\n",
       "      <th>43234</th>\n",
       "      <td>68</td>\n",
       "      <td>117.72180</td>\n",
       "      <td>59</td>\n",
       "    </tr>\n",
       "    <tr>\n",
       "      <th>43235</th>\n",
       "      <td>68</td>\n",
       "      <td>118.19112</td>\n",
       "      <td>59</td>\n",
       "    </tr>\n",
       "  </tbody>\n",
       "</table>\n",
       "<p>43236 rows × 3 columns</p>\n",
       "</div>"
      ],
      "text/plain": [
       "       template  spiketime  electrode\n",
       "0             0    0.83432          0\n",
       "1             0    1.01060          0\n",
       "2             0    1.06120          0\n",
       "3             0    1.38136          0\n",
       "4             0    2.13840          0\n",
       "...         ...        ...        ...\n",
       "43231        68  116.90112         59\n",
       "43232        68  116.91368         59\n",
       "43233        68  116.94180         59\n",
       "43234        68  117.72180         59\n",
       "43235        68  118.19112         59\n",
       "\n",
       "[43236 rows x 3 columns]"
      ]
     },
     "execution_count": 246,
     "metadata": {},
     "output_type": "execute_result"
    }
   ],
   "source": [
    "template_spiketime_df"
   ]
  },
  {
   "cell_type": "code",
   "execution_count": 160,
   "metadata": {},
   "outputs": [
    {
     "data": {
      "text/plain": [
       "<HDF5 group \"/spiketimes\" (69 members)>"
      ]
     },
     "execution_count": 160,
     "metadata": {},
     "output_type": "execute_result"
    }
   ],
   "source": [
    "spike_sorting_result['spiketimes']"
   ]
  },
  {
   "cell_type": "code",
   "execution_count": 150,
   "metadata": {},
   "outputs": [],
   "source": [
    "a = spike_sorting_result['spiketimes']['temp_0']"
   ]
  },
  {
   "cell_type": "code",
   "execution_count": 152,
   "metadata": {},
   "outputs": [
    {
     "data": {
      "text/plain": [
       "'/home/timsit/mecp2/data/PAT200219_2C_DIV170002/PAT200219_2C_DIV170002/PAT200219_2C_DIV170002.result-merged.hdf5'"
      ]
     },
     "execution_count": 152,
     "metadata": {},
     "output_type": "execute_result"
    }
   ],
   "source": [
    "result_file"
   ]
  },
  {
   "cell_type": "code",
   "execution_count": 102,
   "metadata": {},
   "outputs": [],
   "source": [
    "# basis_file = '/home/timsit/mecp2/python/spike_detection/PAT200219_2C_DIV17/PAT200219_2C_DIV17.basis.hdf5'\n",
    "basis_file = '/home/timsit/mecp2/data/PAT200219_2C_DIV170002/PAT200219_2C_DIV170002/PAT200219_2C_DIV170002.basis.hdf5'\n",
    "basis = h5py.File(basis_file, 'r')"
   ]
  },
  {
   "cell_type": "code",
   "execution_count": 103,
   "metadata": {},
   "outputs": [],
   "source": [
    "basis_waveform = basis['waveforms']"
   ]
  },
  {
   "cell_type": "code",
   "execution_count": 129,
   "metadata": {},
   "outputs": [
    {
     "data": {
      "text/plain": [
       "[<matplotlib.lines.Line2D at 0x7efbba8dd650>]"
      ]
     },
     "execution_count": 129,
     "metadata": {},
     "output_type": "execute_result"
    },
    {
     "data": {
      "image/png": "[encoded data removed]",
      "text/plain": [
       "<Figure size 432x288 with 1 Axes>"
      ]
     },
     "metadata": {
      "needs_background": "light"
     },
     "output_type": "display_data"
    }
   ],
   "source": [
    "fig, ax = plt.subplots()\n",
    "ax.plot(basis_waveform[39, :])"
   ]
  },
  {
   "cell_type": "markdown",
   "metadata": {},
   "source": [
    "## Compare spyking circus and the wavelet method for spike detection "
   ]
  },
  {
   "cell_type": "code",
   "execution_count": 185,
   "metadata": {},
   "outputs": [],
   "source": [
    "def hdf_loadmat(mat_filepath):\n",
    "    \n",
    "    f = h5py.File(mat_filepath)\n",
    "    data_dict = {}\n",
    "    for k, v in f.items():\n",
    "        data_dict[k] = np.array(v)\n",
    "    \n",
    "    return data_dict"
   ]
  },
  {
   "cell_type": "code",
   "execution_count": 192,
   "metadata": {},
   "outputs": [
    {
     "name": "stderr",
     "output_type": "stream",
     "text": [
      "/home/timsit/.conda/envs/mecp2/lib/python3.7/site-packages/ipykernel_launcher.py:3: H5pyDeprecationWarning: The default file mode will change to 'r' (read-only) in h5py 3.0. To suppress this warning, pass the mode you need to h5py.File(), or set the global default h5.get_config().default_file_mode, or set the environment variable H5PY_DEFAULT_READONLY=1. Available modes are: 'r', 'r+', 'w', 'w-'/'x', 'a'. See the docs for details.\n",
      "  This is separate from the ipykernel package so we can avoid doing imports until\n"
     ]
    }
   ],
   "source": [
    "raw_data_file = '/home/timsit/mecp2/data/PAT200219_2C_DIV170002.mat'\n",
    "raw_data = hdf_loadmat(raw_data_file)\n",
    "cwt_spike_file = '/home/timsit/mecp2/data/PAT200219_2C_DIV170002/cwt_L0_spikes.mat'\n",
    "cwt_spike = sio.loadmat(cwt_spike_file)['spike_matrix']\n",
    "\n"
   ]
  },
  {
   "cell_type": "code",
   "execution_count": 333,
   "metadata": {},
   "outputs": [],
   "source": [
    "# reorder the channels \n",
    "channel_num = raw_data['channels'][0]\n",
    "channel_idx = np.argsort(channel_num)\n",
    "sorted_channel_num = channel_num[channel_idx]\n",
    "\n",
    "cwt_spike_ordered = cwt_spike[:, channel_idx]"
   ]
  },
  {
   "cell_type": "code",
   "execution_count": 334,
   "metadata": {},
   "outputs": [
    {
     "data": {
      "text/plain": [
       "array([12., 13., 14., 15., 16., 17., 21., 22., 23., 24., 25., 26., 27.,\n",
       "       28., 31., 32., 33., 34., 35., 36., 37., 38., 41., 42., 43., 44.,\n",
       "       45., 46., 47., 48., 51., 52., 53., 54., 55., 56., 57., 58., 61.,\n",
       "       62., 63., 64., 65., 66., 67., 68., 71., 72., 73., 74., 75., 76.,\n",
       "       77., 78., 82., 83., 84., 85., 86., 87.])"
      ]
     },
     "execution_count": 334,
     "metadata": {},
     "output_type": "execute_result"
    }
   ],
   "source": [
    "sorted_channel_num"
   ]
  },
  {
   "cell_type": "markdown",
   "metadata": {},
   "source": [
    "### Compare number of spikes detected from each channel "
   ]
  },
  {
   "cell_type": "code",
   "execution_count": 354,
   "metadata": {},
   "outputs": [],
   "source": [
    "cwt_spike_count_ordered = np.sum(cwt_spike_ordered, axis=0)"
   ]
  },
  {
   "cell_type": "code",
   "execution_count": 355,
   "metadata": {},
   "outputs": [],
   "source": [
    "def add_zero_spikecount(spyking_circus_spike_count, num_electrode=60):\n",
    "    \n",
    "    for electrode in np.arange(num_electrode):\n",
    "        if electrode not in spyking_circus_spike_count.index:\n",
    "            spyking_circus_spike_count.loc[electrode] = 0\n",
    "            # zero_spike_electrode = pd.DataFrame([0])\n",
    "            # zero_spike_electrode.name = electrode\n",
    "            # spyking_circus_spike_count = spyking_circus_spike_count.append(zero_spike_electrode)\n",
    "            \n",
    "    return spyking_circus_spike_count.sort_index()"
   ]
  },
  {
   "cell_type": "code",
   "execution_count": 356,
   "metadata": {},
   "outputs": [],
   "source": [
    "spyking_circus_spike_count = template_spiketime_df.groupby('electrode').count()['spiketime']\n",
    "spyking_circus_spike_count = add_zero_spikecount(spyking_circus_spike_count)"
   ]
  },
  {
   "cell_type": "code",
   "execution_count": 357,
   "metadata": {},
   "outputs": [
    {
     "data": {
      "text/plain": [
       "electrode\n",
       "0      412\n",
       "1      497\n",
       "2        5\n",
       "3        0\n",
       "4     2019\n",
       "5      347\n",
       "6     1071\n",
       "7     1619\n",
       "8        0\n",
       "9       85\n",
       "10       0\n",
       "11     186\n",
       "12    3134\n",
       "13     307\n",
       "14     490\n",
       "15      56\n",
       "16     249\n",
       "17      60\n",
       "18     239\n",
       "19     377\n",
       "20     395\n",
       "21    1034\n",
       "22     845\n",
       "23     302\n",
       "24    1669\n",
       "25      66\n",
       "26     365\n",
       "27     934\n",
       "28       0\n",
       "29    2502\n",
       "30      17\n",
       "31       0\n",
       "32      39\n",
       "33     366\n",
       "34     486\n",
       "35     370\n",
       "36    2559\n",
       "37     888\n",
       "38    1631\n",
       "39    2001\n",
       "40    5180\n",
       "41     628\n",
       "42      20\n",
       "43      41\n",
       "44    1059\n",
       "45     276\n",
       "46     446\n",
       "47    1341\n",
       "48      23\n",
       "49       3\n",
       "50     518\n",
       "51     155\n",
       "52       4\n",
       "53      21\n",
       "54    2898\n",
       "55     600\n",
       "56     771\n",
       "57     807\n",
       "58     561\n",
       "59     262\n",
       "Name: spiketime, dtype: int64"
      ]
     },
     "execution_count": 357,
     "metadata": {},
     "output_type": "execute_result"
    }
   ],
   "source": [
    "spyking_circus_spike_count"
   ]
  },
  {
   "cell_type": "code",
   "execution_count": 372,
   "metadata": {},
   "outputs": [],
   "source": [
    "def plot_grid_layout(fig=None, ax=None, grid_matrix=None, grid_channel_num_matrix=None, plot_grid_matrix=True,\n",
    "                    text_size=8, text_color='black', skip_nan=True):\n",
    "    if (fig is None) and (ax is None):\n",
    "        fig, ax = plt.subplots()\n",
    "        fig.set_size_inches(4, 4)\n",
    "\n",
    "    if plot_grid_matrix:\n",
    "        if grid_matrix is not None:\n",
    "            ax.imshow(grid_matrix)\n",
    "        else:\n",
    "            ax.imshow(np.tile(np.nan, np.shape(grid_channel_num_matrix)))\n",
    "\n",
    "    if grid_channel_num_matrix is not None:\n",
    "\n",
    "        for i in range(np.shape(grid_channel_num_matrix)[0]):\n",
    "            for j in range(np.shape(grid_channel_num_matrix)[1]):\n",
    "                if skip_nan:\n",
    "                    if ~np.isnan(grid_channel_num_matrix[i, j]):\n",
    "                        text = ax.text(j, i, int(grid_channel_num_matrix[i, j]), ha='center', va='center', \n",
    "                                       color=text_color,\n",
    "                                  size=text_size)\n",
    "                else:\n",
    "                    text = ax.text(j, i, grid_channel_num_matrix[i, j], ha='center', va='center', color=text_color,\n",
    "                                  size=text_size)\n",
    "\n",
    "    # Annotate channel number\n",
    "\n",
    "    return fig, ax"
   ]
  },
  {
   "cell_type": "code",
   "execution_count": 388,
   "metadata": {},
   "outputs": [
    {
     "name": "stderr",
     "output_type": "stream",
     "text": [
      "/home/timsit/.conda/envs/mecp2/lib/python3.7/site-packages/matplotlib/image.py:397: UserWarning: Warning: converting a masked element to nan.\n",
      "  dv = (np.float64(self.norm.vmax) -\n",
      "/home/timsit/.conda/envs/mecp2/lib/python3.7/site-packages/matplotlib/image.py:398: UserWarning: Warning: converting a masked element to nan.\n",
      "  np.float64(self.norm.vmin))\n",
      "/home/timsit/.conda/envs/mecp2/lib/python3.7/site-packages/matplotlib/image.py:405: UserWarning: Warning: converting a masked element to nan.\n",
      "  a_min = np.float64(newmin)\n",
      "/home/timsit/.conda/envs/mecp2/lib/python3.7/site-packages/matplotlib/image.py:410: UserWarning: Warning: converting a masked element to nan.\n",
      "  a_max = np.float64(newmax)\n",
      "<string>:6: UserWarning: Warning: converting a masked element to nan.\n",
      "/home/timsit/.conda/envs/mecp2/lib/python3.7/site-packages/numpy/ma/core.py:722: UserWarning: Warning: converting a masked element to nan.\n",
      "  data = np.array(a, copy=False, subok=subok)\n"
     ]
    },
    {
     "data": {
      "image/png": "[encoded data removed]",
      "text/plain": [
       "<Figure size 1800x1200 with 3 Axes>"
      ]
     },
     "metadata": {},
     "output_type": "display_data"
    }
   ],
   "source": [
    "%autoreload\n",
    "add_electrode_num_text = False\n",
    "\n",
    "with plt.style.context(splstyle.get_style('nature-reviews')):\n",
    "    fig, axs = plt.subplots(1, 2)\n",
    "    \n",
    "    vmin = np.nanmin(cwt_spike_sum_matrix)\n",
    "    vmax = np.nanmax(cwt_spike_sum_matrix)\n",
    "    \n",
    "    cwt_spike_sum_matrix = mea_util.make_grid_matrix(cwt_spike_count_ordered)\n",
    "    im0 = axs[0].imshow(cwt_spike_sum_matrix, vmin=vmin, vmax=vmax)\n",
    "    \n",
    "    # fig.colorbar(ax=axs[0])\n",
    "    spyking_circus_spike_sum_matrix = mea_util.make_grid_matrix(spyking_circus_spike_count.values)\n",
    "    im1 = axs[1].imshow(spyking_circus_spike_sum_matrix, vmin=vmin, vmax=vmax)\n",
    "    \n",
    "    axs[0].set_title('Nenadic 2005', size=12)\n",
    "    axs[1].set_title('Yger 2018', size=12)\n",
    "    \n",
    "    grid_channel_num_matrix = mea_util.make_grid_matrix(sorted_channel_num)\n",
    "    fig, axs[0] = plot_grid_layout(fig=fig, ax=axs[0], grid_channel_num_matrix=grid_channel_num_matrix,\n",
    "                                  text_color='white', text_size=5)\n",
    "    \n",
    "    fig, axs[1] = plot_grid_layout(fig=fig, ax=axs[1], grid_channel_num_matrix=grid_channel_num_matrix,\n",
    "                                  text_color='white', text_size=5)\n",
    "    \n",
    "    axs[0].axis('off')\n",
    "    axs[1].axis('off')\n",
    "    \n",
    "    cbar = fig.colorbar(im0, ax=axs[:], shrink=0.5,)\n",
    "    cbar.ax.tick_params(labelsize=10)\n",
    "    cbar.set_label(label='Spike count', size=10)\n",
    "    \n",
    "    fig_folder = '/home/timsit/mecp2/python/figures/spike_detection'\n",
    "    fig_name = 'PAT200219_2C_DIV170002_spike_count_cwt_vs_spyking_circus'\n",
    "    fig_ext = '.png'\n",
    "    fig.savefig(os.path.join(fig_folder, fig_name), dpi=300, bbox_inches='tight')"
   ]
  },
  {
   "cell_type": "code",
   "execution_count": 353,
   "metadata": {},
   "outputs": [
    {
     "data": {
      "text/plain": [
       "5180.0"
      ]
     },
     "execution_count": 353,
     "metadata": {},
     "output_type": "execute_result"
    }
   ],
   "source": [
    "np.nanmax(spyking_circus_spike_sum_matrix)"
   ]
  },
  {
   "cell_type": "code",
   "execution_count": 324,
   "metadata": {},
   "outputs": [
    {
     "data": {
      "text/plain": [
       "array([1774, 4684, 1416,    3, 2425, 2469, 2213, 1809, 2599, 1400, 2256,\n",
       "       2679, 2173, 2264, 1929, 1553,    1, 1596, 1843, 1813, 2035, 1636,\n",
       "       1276, 1635, 1655, 1461, 1694, 1931, 2070, 1343,    1, 1578,  849,\n",
       "       1083, 1667, 1676, 1506, 1693, 1200, 1081, 2031, 1929, 1272, 1967,\n",
       "       1351, 2216,  925, 1841, 1942, 1783, 1583, 1700, 2152, 1840, 2368,\n",
       "       1817, 1567,  844, 1057, 1882], dtype=uint64)"
      ]
     },
     "execution_count": 324,
     "metadata": {},
     "output_type": "execute_result"
    }
   ],
   "source": [
    "cwt_spike_count_ordered"
   ]
  },
  {
   "cell_type": "code",
   "execution_count": 327,
   "metadata": {},
   "outputs": [
    {
     "data": {
      "text/plain": [
       "(60,)"
      ]
     },
     "execution_count": 327,
     "metadata": {},
     "output_type": "execute_result"
    }
   ],
   "source": [
    "np.shape(cwt_spike_count_ordered)"
   ]
  },
  {
   "cell_type": "code",
   "execution_count": 328,
   "metadata": {},
   "outputs": [
    {
     "data": {
      "text/plain": [
       "(61,)"
      ]
     },
     "execution_count": 328,
     "metadata": {},
     "output_type": "execute_result"
    }
   ],
   "source": [
    "np.shape(spyking_circus_spike_count)"
   ]
  },
  {
   "cell_type": "code",
   "execution_count": 389,
   "metadata": {},
   "outputs": [
    {
     "data": {
      "text/plain": [
       "102036"
      ]
     },
     "execution_count": 389,
     "metadata": {},
     "output_type": "execute_result"
    }
   ],
   "source": [
    "np.sum(cwt_spike_count_ordered)"
   ]
  },
  {
   "cell_type": "code",
   "execution_count": 390,
   "metadata": {},
   "outputs": [
    {
     "data": {
      "text/plain": [
       "43236"
      ]
     },
     "execution_count": 390,
     "metadata": {},
     "output_type": "execute_result"
    }
   ],
   "source": [
    "np.sum(spyking_circus_spike_count)"
   ]
  },
  {
   "cell_type": "code",
   "execution_count": null,
   "metadata": {},
   "outputs": [],
   "source": []
  }
 ],
 "metadata": {
  "kernelspec": {
   "display_name": "Python 3",
   "language": "python",
   "name": "python3"
  },
  "language_info": {
   "codemirror_mode": {
    "name": "ipython",
    "version": 3
   },
   "file_extension": ".py",
   "mimetype": "text/x-python",
   "name": "python",
   "nbconvert_exporter": "python",
   "pygments_lexer": "ipython3",
   "version": "3.7.7"
  }
 },
 "nbformat": 4,
 "nbformat_minor": 4
}
