{
 "cells": [
  {
   "cell_type": "code",
   "execution_count": 1,
   "metadata": {},
   "outputs": [],
   "source": [
    "import os\n",
    "import numpy as np\n",
    "import scipy.io as sio\n",
    "import h5py\n",
    "import matplotlib.pyplot as plt \n",
    "\n",
    "# signal processing \n",
    "import scipy.signal as ssignal\n",
    "\n",
    "# fancy plot stuff \n",
    "import sciplotlib.style as splstyle\n",
    "import sciplotlib.polish as splpolish \n",
    "\n"
   ]
  },
  {
   "cell_type": "markdown",
   "metadata": {},
   "source": [
    "# Load matlab path"
   ]
  },
  {
   "cell_type": "code",
   "execution_count": 2,
   "metadata": {},
   "outputs": [],
   "source": [
    "mat_filepath = '/home/timsit/mecp2/data/PAT200219_2C_DIV17.mat'"
   ]
  },
  {
   "cell_type": "code",
   "execution_count": 3,
   "metadata": {},
   "outputs": [
    {
     "name": "stderr",
     "output_type": "stream",
     "text": [
      "/home/timsit/.conda/envs/msi/lib/python3.7/site-packages/ipykernel_launcher.py:1: H5pyDeprecationWarning: The default file mode will change to 'r' (read-only) in h5py 3.0. To suppress this warning, pass the mode you need to h5py.File(), or set the global default h5.get_config().default_file_mode, or set the environment variable H5PY_DEFAULT_READONLY=1. Available modes are: 'r', 'r+', 'w', 'w-'/'x', 'a'. See the docs for details.\n",
      "  \"\"\"Entry point for launching an IPython kernel.\n"
     ]
    }
   ],
   "source": [
    "f = h5py.File(mat_filepath)\n",
    "data_dict = {}\n",
    "for k, v in f.items():\n",
    "    data_dict[k] = np.array(v)"
   ]
  },
  {
   "cell_type": "code",
   "execution_count": 4,
   "metadata": {},
   "outputs": [
    {
     "data": {
      "text/plain": [
       "dict_keys(['ADCz', 'channels', 'dat', 'fs', 'header', 'uV'])"
      ]
     },
     "execution_count": 4,
     "metadata": {},
     "output_type": "execute_result"
    }
   ],
   "source": [
    "data_dict.keys()"
   ]
  },
  {
   "cell_type": "code",
   "execution_count": 5,
   "metadata": {},
   "outputs": [],
   "source": [
    "raw_data = data_dict['dat']"
   ]
  },
  {
   "cell_type": "code",
   "execution_count": 6,
   "metadata": {},
   "outputs": [
    {
     "data": {
      "text/plain": [
       "(60, 3002500)"
      ]
     },
     "execution_count": 6,
     "metadata": {},
     "output_type": "execute_result"
    }
   ],
   "source": [
    "np.shape(raw_data)"
   ]
  },
  {
   "cell_type": "code",
   "execution_count": 13,
   "metadata": {},
   "outputs": [],
   "source": [
    "# This is ported from: https://github.com/Timothysit/mecp2/blob/master/Matlab_Analysis/heatMap/makeHeatMap.m\n",
    "def make_grid_matrix(data_vec, num_x_channel=8, num_y_channel=8, grounded_electrode=[5]):\n",
    "    \n",
    "    grid_matrix = np.zeros((num_x_channel, num_y_channel))\n",
    "    \n",
    "    \n",
    "    # remove the four corners \n",
    "    grid_matrix[0, 0] = np.nan\n",
    "    grid_matrix[0, 7] = np.nan\n",
    "    grid_matrix[7, 0] = np.nan \n",
    "    grid_matrix[7, 7] = np.nan\n",
    "    \n",
    "    num_channel = len(data_vec)\n",
    "    \n",
    "    if num_channel == 60:\n",
    "        \n",
    "        # grid_matrix.flatten()[1:6] = data_vec[0:5]\n",
    "        # grid_matrix.flatten()[8:55] = data_vec[6:53]\n",
    "        # grid_matrix.flatten()[57: 62] = data_vec[54:59]\n",
    "    \n",
    "        grid_matrix.flat[1:6] = data_vec[0:5]\n",
    "        grid_matrix.flat[8:55] = data_vec[6:53]\n",
    "        grid_matrix.flat[57: 62] = data_vec[54:59]\n",
    "    \n",
    "    return grid_matrix"
   ]
  },
  {
   "cell_type": "code",
   "execution_count": 14,
   "metadata": {},
   "outputs": [],
   "source": [
    "example_data_vec = np.mean(raw_data, axis=1)\n",
    "grid_matrix = make_grid_matrix(data_vec=example_data_vec)"
   ]
  },
  {
   "cell_type": "code",
   "execution_count": 16,
   "metadata": {},
   "outputs": [
    {
     "data": {
      "text/plain": [
       "<matplotlib.image.AxesImage at 0x7efbbba11160>"
      ]
     },
     "execution_count": 16,
     "metadata": {},
     "output_type": "execute_result"
    },
    {
     "data": {
      "image/png": "[encoded data removed]",
      "text/plain": [
       "<Figure size 432x288 with 1 Axes>"
      ]
     },
     "metadata": {
      "needs_background": "light"
     },
     "output_type": "display_data"
    }
   ],
   "source": [
    "plt.imshow(grid_matrix)"
   ]
  },
  {
   "cell_type": "code",
   "execution_count": null,
   "metadata": {},
   "outputs": [],
   "source": [
    "def plot_grid_layout(fig=None, ax=None):\n",
    "    \n",
    "    if (fig is None) and (ax is None):\n",
    "        fig, ax = plt.subplots()\n",
    "        fig.set_size_inches(4, 4)\n",
    "    \n",
    "    \n",
    "    return fig"
   ]
  }
 ],
 "metadata": {
  "kernelspec": {
   "display_name": "Python 3",
   "language": "python",
   "name": "python3"
  },
  "language_info": {
   "codemirror_mode": {
    "name": "ipython",
    "version": 3
   },
   "file_extension": ".py",
   "mimetype": "text/x-python",
   "name": "python",
   "nbconvert_exporter": "python",
   "pygments_lexer": "ipython3",
   "version": "3.7.3"
  }
 },
 "nbformat": 4,
 "nbformat_minor": 2
}
