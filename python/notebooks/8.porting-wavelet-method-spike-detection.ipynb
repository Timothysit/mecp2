{
 "cells": [
  {
   "cell_type": "markdown",
   "metadata": {},
   "source": [
    "# Port wavelet method spike detection"
   ]
  },
  {
   "cell_type": "code",
   "execution_count": 1,
   "metadata": {},
   "outputs": [],
   "source": [
    "%load_ext autoreload\n",
    "import numpy as np \n",
    "import os \n",
    "\n",
    "import sys\n",
    "sys.path.append(\"/home/timsit/mecp2/python/\")\n",
    "import mea_util\n",
    "import spike_detection as dspikes\n",
    "import process_spikes as pspikes\n",
    "import vizpikes \n",
    "\n",
    "# Wavelet\n",
    "\n",
    "import pywt\n",
    "\n",
    "\n",
    "# plotting \n",
    "import matplotlib.pyplot as plt\n",
    "import sciplotlib.style as splstyle"
   ]
  },
  {
   "cell_type": "markdown",
   "metadata": {},
   "source": [
    "## Load some data to test that it is running properly"
   ]
  },
  {
   "cell_type": "code",
   "execution_count": 2,
   "metadata": {},
   "outputs": [
    {
     "name": "stderr",
     "output_type": "stream",
     "text": [
      "/home/timsit/mecp2/python/mea_util.py:7: H5pyDeprecationWarning: The default file mode will change to 'r' (read-only) in h5py 3.0. To suppress this warning, pass the mode you need to h5py.File(), or set the global default h5.get_config().default_file_mode, or set the environment variable H5PY_DEFAULT_READONLY=1. Available modes are: 'r', 'r+', 'w', 'w-'/'x', 'a'. See the docs for details.\n",
      "  f = h5py.File(mat_filepath)\n"
     ]
    }
   ],
   "source": [
    "pre_ttx_path = '/home/timsit/mecp2/data/MPT200209_3A_DIV12.mat'\n",
    "pre_ttx_data = mea_util.hdf_loadmat(pre_ttx_path)"
   ]
  },
  {
   "cell_type": "markdown",
   "metadata": {},
   "source": [
    "## Go through the code (almost line by line) to check the output is the same"
   ]
  },
  {
   "cell_type": "code",
   "execution_count": 3,
   "metadata": {},
   "outputs": [],
   "source": [
    "# specify the parameters\n",
    "signal = pre_ttx_data['dat']\n",
    "SFr = 25 # in Khz\n",
    "Wid = [0.5, 1.0]\n",
    "Ns = 2\n",
    "option = 'c'\n",
    "L = 0\n",
    "wname = 'bior1.5'"
   ]
  },
  {
   "cell_type": "code",
   "execution_count": 4,
   "metadata": {},
   "outputs": [],
   "source": [
    "# Mean subtraction on the signal so that it has zero-mean\n",
    "signal = signal - np.mean(signal)"
   ]
  },
  {
   "cell_type": "code",
   "execution_count": 5,
   "metadata": {},
   "outputs": [],
   "source": [
    "Nt = len(signal)  # number of time poinnts"
   ]
  },
  {
   "cell_type": "markdown",
   "metadata": {},
   "source": [
    "### Determine scales"
   ]
  },
  {
   "cell_type": "code",
   "execution_count": 6,
   "metadata": {},
   "outputs": [],
   "source": [
    "_signal = np.zeros(shape=(1000))"
   ]
  },
  {
   "cell_type": "code",
   "execution_count": 7,
   "metadata": {},
   "outputs": [],
   "source": [
    "dt = 1 / SFr"
   ]
  },
  {
   "cell_type": "code",
   "execution_count": 8,
   "metadata": {},
   "outputs": [],
   "source": [
    "_signal[499] = 1  # create diract function"
   ]
  },
  {
   "cell_type": "code",
   "execution_count": 9,
   "metadata": {},
   "outputs": [],
   "source": [
    "Width = np.linspace(Wid[0], Wid[1], Ns)"
   ]
  },
  {
   "cell_type": "code",
   "execution_count": 10,
   "metadata": {},
   "outputs": [],
   "source": [
    "Eps = 10 ** (-15)"
   ]
  },
  {
   "cell_type": "code",
   "execution_count": 11,
   "metadata": {},
   "outputs": [],
   "source": [
    "ScaleMax = 3\n",
    "ScaleMax = ScaleMax * SFr"
   ]
  },
  {
   "cell_type": "code",
   "execution_count": 12,
   "metadata": {},
   "outputs": [],
   "source": [
    "Scales = np.arange(2, ScaleMax+1)"
   ]
  },
  {
   "cell_type": "code",
   "execution_count": 15,
   "metadata": {},
   "outputs": [
    {
     "data": {
      "text/plain": [
       "['bior1.1',\n",
       " 'bior1.3',\n",
       " 'bior1.5',\n",
       " 'bior2.2',\n",
       " 'bior2.4',\n",
       " 'bior2.6',\n",
       " 'bior2.8',\n",
       " 'bior3.1',\n",
       " 'bior3.3',\n",
       " 'bior3.5',\n",
       " 'bior3.7',\n",
       " 'bior3.9',\n",
       " 'bior4.4',\n",
       " 'bior5.5',\n",
       " 'bior6.8',\n",
       " 'cgau1',\n",
       " 'cgau2',\n",
       " 'cgau3',\n",
       " 'cgau4',\n",
       " 'cgau5',\n",
       " 'cgau6',\n",
       " 'cgau7',\n",
       " 'cgau8',\n",
       " 'cmor',\n",
       " 'coif1',\n",
       " 'coif2',\n",
       " 'coif3',\n",
       " 'coif4',\n",
       " 'coif5',\n",
       " 'coif6',\n",
       " 'coif7',\n",
       " 'coif8',\n",
       " 'coif9',\n",
       " 'coif10',\n",
       " 'coif11',\n",
       " 'coif12',\n",
       " 'coif13',\n",
       " 'coif14',\n",
       " 'coif15',\n",
       " 'coif16',\n",
       " 'coif17',\n",
       " 'db1',\n",
       " 'db2',\n",
       " 'db3',\n",
       " 'db4',\n",
       " 'db5',\n",
       " 'db6',\n",
       " 'db7',\n",
       " 'db8',\n",
       " 'db9',\n",
       " 'db10',\n",
       " 'db11',\n",
       " 'db12',\n",
       " 'db13',\n",
       " 'db14',\n",
       " 'db15',\n",
       " 'db16',\n",
       " 'db17',\n",
       " 'db18',\n",
       " 'db19',\n",
       " 'db20',\n",
       " 'db21',\n",
       " 'db22',\n",
       " 'db23',\n",
       " 'db24',\n",
       " 'db25',\n",
       " 'db26',\n",
       " 'db27',\n",
       " 'db28',\n",
       " 'db29',\n",
       " 'db30',\n",
       " 'db31',\n",
       " 'db32',\n",
       " 'db33',\n",
       " 'db34',\n",
       " 'db35',\n",
       " 'db36',\n",
       " 'db37',\n",
       " 'db38',\n",
       " 'dmey',\n",
       " 'fbsp',\n",
       " 'gaus1',\n",
       " 'gaus2',\n",
       " 'gaus3',\n",
       " 'gaus4',\n",
       " 'gaus5',\n",
       " 'gaus6',\n",
       " 'gaus7',\n",
       " 'gaus8',\n",
       " 'haar',\n",
       " 'mexh',\n",
       " 'morl',\n",
       " 'rbio1.1',\n",
       " 'rbio1.3',\n",
       " 'rbio1.5',\n",
       " 'rbio2.2',\n",
       " 'rbio2.4',\n",
       " 'rbio2.6',\n",
       " 'rbio2.8',\n",
       " 'rbio3.1',\n",
       " 'rbio3.3',\n",
       " 'rbio3.5',\n",
       " 'rbio3.7',\n",
       " 'rbio3.9',\n",
       " 'rbio4.4',\n",
       " 'rbio5.5',\n",
       " 'rbio6.8',\n",
       " 'shan',\n",
       " 'sym2',\n",
       " 'sym3',\n",
       " 'sym4',\n",
       " 'sym5',\n",
       " 'sym6',\n",
       " 'sym7',\n",
       " 'sym8',\n",
       " 'sym9',\n",
       " 'sym10',\n",
       " 'sym11',\n",
       " 'sym12',\n",
       " 'sym13',\n",
       " 'sym14',\n",
       " 'sym15',\n",
       " 'sym16',\n",
       " 'sym17',\n",
       " 'sym18',\n",
       " 'sym19',\n",
       " 'sym20']"
      ]
     },
     "execution_count": 15,
     "metadata": {},
     "output_type": "execute_result"
    }
   ],
   "source": [
    "pywt.wavelist()"
   ]
  },
  {
   "cell_type": "code",
   "execution_count": 16,
   "metadata": {},
   "outputs": [
    {
     "ename": "NameError",
     "evalue": "name 'wavelet_obj' is not defined",
     "output_type": "error",
     "traceback": [
      "\u001b[0;31m---------------------------------------------------------------------------\u001b[0m",
      "\u001b[0;31mNameError\u001b[0m                                 Traceback (most recent call last)",
      "\u001b[0;32m<ipython-input-16-1f308e514c03>\u001b[0m in \u001b[0;36m<module>\u001b[0;34m\u001b[0m\n\u001b[0;32m----> 1\u001b[0;31m \u001b[0mprint\u001b[0m\u001b[0;34m(\u001b[0m\u001b[0mwavelet_obj\u001b[0m\u001b[0;34m)\u001b[0m\u001b[0;34m\u001b[0m\u001b[0;34m\u001b[0m\u001b[0m\n\u001b[0m",
      "\u001b[0;31mNameError\u001b[0m: name 'wavelet_obj' is not defined"
     ]
    }
   ],
   "source": [
    "print(wavelet_obj)"
   ]
  },
  {
   "cell_type": "code",
   "execution_count": 17,
   "metadata": {},
   "outputs": [],
   "source": [
    "# c, _ = pywt.cwt(data=_signal, scales=Scales, wavelet='gaus5')\n",
    "# wavelet_obj = pywt.DiscreteContinuousWavelet('bior1.5')\n",
    "# wavelet_obj = pywt.ContinuousWavelet('fbsp2-3.0-2.0')\n",
    "wavelet_obj = pywt.ContinuousWavelet('gaus7')\n",
    "# c, _ = pywt.cwt(data=_signal, scales=Scales, wavelet=wavelet_obj)\n",
    "\n",
    "c, _ = pywt.cwt(data=_signal, scales=Scales, wavelet=wavelet_obj)\n",
    "# c = np.real(c)\n",
    "# c = np.imag(c)\n",
    "\n",
    "# c = pywt.swt(data=_signal, wavelet='bior1.5')"
   ]
  },
  {
   "cell_type": "code",
   "execution_count": 18,
   "metadata": {},
   "outputs": [
    {
     "data": {
      "text/plain": [
       "[<matplotlib.lines.Line2D at 0x7efbb5912610>]"
      ]
     },
     "execution_count": 18,
     "metadata": {},
     "output_type": "execute_result"
    },
    {
     "data": {
      "image/png": "[encoded data removed]",
      "text/plain": [
       "<Figure size 432x288 with 1 Axes>"
      ]
     },
     "metadata": {
      "needs_background": "light"
     },
     "output_type": "display_data"
    }
   ],
   "source": [
    "fig, ax = plt.subplots()\n",
    "ax.plot(_signal)"
   ]
  },
  {
   "cell_type": "code",
   "execution_count": 21,
   "metadata": {},
   "outputs": [],
   "source": [
    "# load the one computed in matlab \n",
    "import scipy.io as sio\n",
    "c = sio.loadmat('/home/timsit/mecp2/python/notebooks/bior1.5waveletC.mat')['c']"
   ]
  },
  {
   "cell_type": "markdown",
   "metadata": {},
   "source": [
    "### Can gaus5 replace bior1.5"
   ]
  },
  {
   "cell_type": "code",
   "execution_count": 20,
   "metadata": {},
   "outputs": [
    {
     "data": {
      "text/plain": [
       "<matplotlib.image.AxesImage at 0x7efa06503a50>"
      ]
     },
     "execution_count": 20,
     "metadata": {},
     "output_type": "execute_result"
    },
    {
     "data": {
      "image/png": "[encoded data removed]",
      "text/plain": [
       "<Figure size 432x288 with 1 Axes>"
      ]
     },
     "metadata": {
      "needs_background": "light"
     },
     "output_type": "display_data"
    }
   ],
   "source": [
    "plt.imshow(c, aspect='auto', cmap='gray')"
   ]
  },
  {
   "cell_type": "code",
   "execution_count": 21,
   "metadata": {},
   "outputs": [
    {
     "data": {
      "text/plain": [
       "-0.7110390281291333"
      ]
     },
     "execution_count": 21,
     "metadata": {},
     "output_type": "execute_result"
    }
   ],
   "source": [
    "np.min(c)"
   ]
  },
  {
   "cell_type": "code",
   "execution_count": 22,
   "metadata": {},
   "outputs": [
    {
     "data": {
      "image/png": "[encoded data removed]",
      "text/plain": [
       "<Figure size 2400x1200 with 1 Axes>"
      ]
     },
     "metadata": {},
     "output_type": "display_data"
    }
   ],
   "source": [
    "with plt.style.context(splstyle.get_style('nature-reviews')):\n",
    "    fig, ax = plt.subplots()\n",
    "    fig.set_size_inches(8, 4)\n",
    "    ax.plot(np.arange(1000),c[-6, :], linewidth=0.1)"
   ]
  },
  {
   "cell_type": "markdown",
   "metadata": {},
   "source": [
    "### Iterate through all the wavelets and calculate how similar it is to the bior1.5 from Matlab"
   ]
  },
  {
   "cell_type": "code",
   "execution_count": 37,
   "metadata": {},
   "outputs": [],
   "source": [
    "candidate_list = ['cgau' + str(derivative) for derivative in np.arange(1, 9)]\n",
    "candidate_list.extend(['gaus' + str(derivative) for derivative in np.arange(1, 9)])\n",
    "candidate_list.extend(['mexh', 'morl'])\n",
    "candidate_list.extend(['cmor1-1', 'cmor0.2-1.1', 'cmor0.2-1.0', 'cmor0.2-0.9', 'cmor0.5-0.8'])\n",
    "\n",
    "wavelet_output_sim_score_list = list()\n",
    "for candidate_wavelet in candidate_list: \n",
    "\n",
    "    wavelet_obj = pywt.ContinuousWavelet(candidate_wavelet)\n",
    "    candidate_c, _ = pywt.cwt(data=_signal, scales=Scales, wavelet=wavelet_obj)\n",
    "    \n",
    "    if 'cmor' in candidate_wavelet:\n",
    "        candidate_c = np.imag(candidate_c)\n",
    "    else:\n",
    "        candidate_c = np.real(candidate_c)\n",
    "    \n",
    "    # difference between filtering result of the candidate wavelet and the biro1.5 wavelet in matlab \n",
    "    wavelet_output_sim_score = np.sum((c - candidate_c) ** 2)\n",
    "    wavelet_output_sim_score_list.append(wavelet_output_sim_score)\n",
    "    \n",
    "    "
   ]
  },
  {
   "cell_type": "code",
   "execution_count": 38,
   "metadata": {},
   "outputs": [
    {
     "data": {
      "text/plain": [
       "[70.40157134612747,\n",
       " 139.5151067408916,\n",
       " 213.55241163009046,\n",
       " 117.23442629060494,\n",
       " 34.24160410015668,\n",
       " 138.88258776859576,\n",
       " 221.5647151614883,\n",
       " 111.73783151758911,\n",
       " 99.41821125405548,\n",
       " 155.80149025660614,\n",
       " 67.8879877996975,\n",
       " 151.51352501473093,\n",
       " 48.95384299535884,\n",
       " 148.07907350789276,\n",
       " 37.692025885723254,\n",
       " 145.45861531088752,\n",
       " 161.36367062820727,\n",
       " 136.23279562662023,\n",
       " 49.60925235241759,\n",
       " 40.980428898290185,\n",
       " 33.71198456541317,\n",
       " 28.2970237705591,\n",
       " 28.893353775390057]"
      ]
     },
     "execution_count": 38,
     "metadata": {},
     "output_type": "execute_result"
    }
   ],
   "source": [
    "wavelet_output_sim_score_list"
   ]
  },
  {
   "cell_type": "code",
   "execution_count": 38,
   "metadata": {},
   "outputs": [
    {
     "data": {
      "text/plain": [
       "['bior1.1',\n",
       " 'bior1.3',\n",
       " 'bior1.5',\n",
       " 'bior2.2',\n",
       " 'bior2.4',\n",
       " 'bior2.6',\n",
       " 'bior2.8',\n",
       " 'bior3.1',\n",
       " 'bior3.3',\n",
       " 'bior3.5',\n",
       " 'bior3.7',\n",
       " 'bior3.9',\n",
       " 'bior4.4',\n",
       " 'bior5.5',\n",
       " 'bior6.8',\n",
       " 'cgau1',\n",
       " 'cgau2',\n",
       " 'cgau3',\n",
       " 'cgau4',\n",
       " 'cgau5',\n",
       " 'cgau6',\n",
       " 'cgau7',\n",
       " 'cgau8',\n",
       " 'cmor',\n",
       " 'coif1',\n",
       " 'coif2',\n",
       " 'coif3',\n",
       " 'coif4',\n",
       " 'coif5',\n",
       " 'coif6',\n",
       " 'coif7',\n",
       " 'coif8',\n",
       " 'coif9',\n",
       " 'coif10',\n",
       " 'coif11',\n",
       " 'coif12',\n",
       " 'coif13',\n",
       " 'coif14',\n",
       " 'coif15',\n",
       " 'coif16',\n",
       " 'coif17',\n",
       " 'db1',\n",
       " 'db2',\n",
       " 'db3',\n",
       " 'db4',\n",
       " 'db5',\n",
       " 'db6',\n",
       " 'db7',\n",
       " 'db8',\n",
       " 'db9',\n",
       " 'db10',\n",
       " 'db11',\n",
       " 'db12',\n",
       " 'db13',\n",
       " 'db14',\n",
       " 'db15',\n",
       " 'db16',\n",
       " 'db17',\n",
       " 'db18',\n",
       " 'db19',\n",
       " 'db20',\n",
       " 'db21',\n",
       " 'db22',\n",
       " 'db23',\n",
       " 'db24',\n",
       " 'db25',\n",
       " 'db26',\n",
       " 'db27',\n",
       " 'db28',\n",
       " 'db29',\n",
       " 'db30',\n",
       " 'db31',\n",
       " 'db32',\n",
       " 'db33',\n",
       " 'db34',\n",
       " 'db35',\n",
       " 'db36',\n",
       " 'db37',\n",
       " 'db38',\n",
       " 'dmey',\n",
       " 'fbsp',\n",
       " 'gaus1',\n",
       " 'gaus2',\n",
       " 'gaus3',\n",
       " 'gaus4',\n",
       " 'gaus5',\n",
       " 'gaus6',\n",
       " 'gaus7',\n",
       " 'gaus8',\n",
       " 'haar',\n",
       " 'mexh',\n",
       " 'morl',\n",
       " 'rbio1.1',\n",
       " 'rbio1.3',\n",
       " 'rbio1.5',\n",
       " 'rbio2.2',\n",
       " 'rbio2.4',\n",
       " 'rbio2.6',\n",
       " 'rbio2.8',\n",
       " 'rbio3.1',\n",
       " 'rbio3.3',\n",
       " 'rbio3.5',\n",
       " 'rbio3.7',\n",
       " 'rbio3.9',\n",
       " 'rbio4.4',\n",
       " 'rbio5.5',\n",
       " 'rbio6.8',\n",
       " 'shan',\n",
       " 'sym2',\n",
       " 'sym3',\n",
       " 'sym4',\n",
       " 'sym5',\n",
       " 'sym6',\n",
       " 'sym7',\n",
       " 'sym8',\n",
       " 'sym9',\n",
       " 'sym10',\n",
       " 'sym11',\n",
       " 'sym12',\n",
       " 'sym13',\n",
       " 'sym14',\n",
       " 'sym15',\n",
       " 'sym16',\n",
       " 'sym17',\n",
       " 'sym18',\n",
       " 'sym19',\n",
       " 'sym20']"
      ]
     },
     "execution_count": 38,
     "metadata": {},
     "output_type": "execute_result"
    }
   ],
   "source": [
    "pywt.wavelist()"
   ]
  },
  {
   "cell_type": "markdown",
   "metadata": {},
   "source": [
    "## What can the Frequency B-spline wavelet look like?"
   ]
  },
  {
   "cell_type": "code",
   "execution_count": 25,
   "metadata": {},
   "outputs": [],
   "source": [
    "def b_spline_wavelet(t=np.linspace(0, 1000), M=1, B=3, C=0):\n",
    "    \n",
    "    psi_t = np.sqrt(B) * ((np.sin(np.pi * B * t / M)) / (np.pi * B * t/M)) ** M * np.exp(2 * np.pi * 1j * C * t)\n",
    "    \n",
    "    return psi_t"
   ]
  },
  {
   "cell_type": "code",
   "execution_count": 26,
   "metadata": {},
   "outputs": [],
   "source": [
    "def cwt_b_spline_wavelet(_signal, Scales, M=1, B=3, C=0):\n",
    "    \n",
    "    wavelet_obj = pywt.ContinuousWavelet('fbsp' + str(M) + '-' + str(B) + '-' + str(C))\n",
    "    \n",
    "    output_signal, _ = pywt.cwt(data=_signal, scales=Scales, wavelet=wavelet_obj)\n",
    "    \n",
    "    return output_signal"
   ]
  },
  {
   "cell_type": "code",
   "execution_count": 27,
   "metadata": {},
   "outputs": [
    {
     "name": "stderr",
     "output_type": "stream",
     "text": [
      "/home/timsit/.conda/envs/mecp2/lib/python3.7/site-packages/numpy/core/_asarray.py:85: ComplexWarning: Casting complex values to real discards the imaginary part\n",
      "  return array(a, dtype, copy=False, order=order)\n"
     ]
    },
    {
     "data": {
      "text/plain": [
       "[<matplotlib.lines.Line2D at 0x7efa0640abd0>]"
      ]
     },
     "execution_count": 27,
     "metadata": {},
     "output_type": "execute_result"
    },
    {
     "data": {
      "image/png": "[encoded data removed]",
      "text/plain": [
       "<Figure size 432x288 with 1 Axes>"
      ]
     },
     "metadata": {
      "needs_background": "light"
     },
     "output_type": "display_data"
    }
   ],
   "source": [
    "t = np.linspace(-10, 10, 1000)\n",
    "psi_t = b_spline_wavelet(t=t, M=1, B=2, C=0)\n",
    "fig, ax = plt.subplots()\n",
    "ax.plot(t, psi_t)"
   ]
  },
  {
   "cell_type": "code",
   "execution_count": 30,
   "metadata": {},
   "outputs": [
    {
     "ename": "TypeError",
     "evalue": "must be real number, not NoneType",
     "output_type": "error",
     "traceback": [
      "\u001b[0;31m---------------------------------------------------------------------------\u001b[0m",
      "\u001b[0;31mTypeError\u001b[0m                                 Traceback (most recent call last)",
      "\u001b[0;32m<ipython-input-30-f61c4e4162cf>\u001b[0m in \u001b[0;36m<module>\u001b[0;34m\u001b[0m\n\u001b[0;32m----> 1\u001b[0;31m \u001b[0moutput_signal\u001b[0m \u001b[0;34m=\u001b[0m \u001b[0mcwt_b_spline_wavelet\u001b[0m\u001b[0;34m(\u001b[0m\u001b[0m_signal\u001b[0m\u001b[0;34m=\u001b[0m\u001b[0m_signal\u001b[0m\u001b[0;34m,\u001b[0m \u001b[0mScales\u001b[0m\u001b[0;34m=\u001b[0m\u001b[0mScales\u001b[0m\u001b[0;34m,\u001b[0m \u001b[0mM\u001b[0m\u001b[0;34m=\u001b[0m\u001b[0;36m1\u001b[0m\u001b[0;34m,\u001b[0m \u001b[0mB\u001b[0m\u001b[0;34m=\u001b[0m\u001b[0;36m3\u001b[0m\u001b[0;34m,\u001b[0m \u001b[0mC\u001b[0m\u001b[0;34m=\u001b[0m\u001b[0;36m0\u001b[0m\u001b[0;34m)\u001b[0m\u001b[0;34m\u001b[0m\u001b[0;34m\u001b[0m\u001b[0m\n\u001b[0m",
      "\u001b[0;32m<ipython-input-26-1885a83c51b6>\u001b[0m in \u001b[0;36mcwt_b_spline_wavelet\u001b[0;34m(_signal, Scales, M, B, C)\u001b[0m\n\u001b[1;32m      3\u001b[0m     \u001b[0mwavelet_obj\u001b[0m \u001b[0;34m=\u001b[0m \u001b[0mpywt\u001b[0m\u001b[0;34m.\u001b[0m\u001b[0mContinuousWavelet\u001b[0m\u001b[0;34m(\u001b[0m\u001b[0;34m'fbsp'\u001b[0m \u001b[0;34m+\u001b[0m \u001b[0mstr\u001b[0m\u001b[0;34m(\u001b[0m\u001b[0mM\u001b[0m\u001b[0;34m)\u001b[0m \u001b[0;34m+\u001b[0m \u001b[0;34m'-'\u001b[0m \u001b[0;34m+\u001b[0m \u001b[0mstr\u001b[0m\u001b[0;34m(\u001b[0m\u001b[0mB\u001b[0m\u001b[0;34m)\u001b[0m \u001b[0;34m+\u001b[0m \u001b[0;34m'-'\u001b[0m \u001b[0;34m+\u001b[0m \u001b[0mstr\u001b[0m\u001b[0;34m(\u001b[0m\u001b[0mC\u001b[0m\u001b[0;34m)\u001b[0m\u001b[0;34m)\u001b[0m\u001b[0;34m\u001b[0m\u001b[0;34m\u001b[0m\u001b[0m\n\u001b[1;32m      4\u001b[0m \u001b[0;34m\u001b[0m\u001b[0m\n\u001b[0;32m----> 5\u001b[0;31m     \u001b[0moutput_signal\u001b[0m\u001b[0;34m,\u001b[0m \u001b[0m_\u001b[0m \u001b[0;34m=\u001b[0m \u001b[0mpywt\u001b[0m\u001b[0;34m.\u001b[0m\u001b[0mcwt\u001b[0m\u001b[0;34m(\u001b[0m\u001b[0mdata\u001b[0m\u001b[0;34m=\u001b[0m\u001b[0m_signal\u001b[0m\u001b[0;34m,\u001b[0m \u001b[0mscales\u001b[0m\u001b[0;34m=\u001b[0m\u001b[0mScales\u001b[0m\u001b[0;34m,\u001b[0m \u001b[0mwavelet\u001b[0m\u001b[0;34m=\u001b[0m\u001b[0mwavelet_obj\u001b[0m\u001b[0;34m)\u001b[0m\u001b[0;34m\u001b[0m\u001b[0;34m\u001b[0m\u001b[0m\n\u001b[0m\u001b[1;32m      6\u001b[0m \u001b[0;34m\u001b[0m\u001b[0m\n\u001b[1;32m      7\u001b[0m     \u001b[0;32mreturn\u001b[0m \u001b[0moutput_signal\u001b[0m\u001b[0;34m\u001b[0m\u001b[0;34m\u001b[0m\u001b[0m\n",
      "\u001b[0;32m~/.conda/envs/mecp2/lib/python3.7/site-packages/pywt/_cwt.py\u001b[0m in \u001b[0;36mcwt\u001b[0;34m(data, scales, wavelet, sampling_period, method, axis)\u001b[0m\n\u001b[1;32m    124\u001b[0m     \u001b[0mout\u001b[0m \u001b[0;34m=\u001b[0m \u001b[0mnp\u001b[0m\u001b[0;34m.\u001b[0m\u001b[0mempty\u001b[0m\u001b[0;34m(\u001b[0m\u001b[0;34m(\u001b[0m\u001b[0mnp\u001b[0m\u001b[0;34m.\u001b[0m\u001b[0msize\u001b[0m\u001b[0;34m(\u001b[0m\u001b[0mscales\u001b[0m\u001b[0;34m)\u001b[0m\u001b[0;34m,\u001b[0m\u001b[0;34m)\u001b[0m \u001b[0;34m+\u001b[0m \u001b[0mdata\u001b[0m\u001b[0;34m.\u001b[0m\u001b[0mshape\u001b[0m\u001b[0;34m,\u001b[0m \u001b[0mdtype\u001b[0m\u001b[0;34m=\u001b[0m\u001b[0mdt_out\u001b[0m\u001b[0;34m)\u001b[0m\u001b[0;34m\u001b[0m\u001b[0;34m\u001b[0m\u001b[0m\n\u001b[1;32m    125\u001b[0m     \u001b[0mprecision\u001b[0m \u001b[0;34m=\u001b[0m \u001b[0;36m10\u001b[0m\u001b[0;34m\u001b[0m\u001b[0;34m\u001b[0m\u001b[0m\n\u001b[0;32m--> 126\u001b[0;31m     \u001b[0mint_psi\u001b[0m\u001b[0;34m,\u001b[0m \u001b[0mx\u001b[0m \u001b[0;34m=\u001b[0m \u001b[0mintegrate_wavelet\u001b[0m\u001b[0;34m(\u001b[0m\u001b[0mwavelet\u001b[0m\u001b[0;34m,\u001b[0m \u001b[0mprecision\u001b[0m\u001b[0;34m=\u001b[0m\u001b[0mprecision\u001b[0m\u001b[0;34m)\u001b[0m\u001b[0;34m\u001b[0m\u001b[0;34m\u001b[0m\u001b[0m\n\u001b[0m\u001b[1;32m    127\u001b[0m     \u001b[0mint_psi\u001b[0m \u001b[0;34m=\u001b[0m \u001b[0mnp\u001b[0m\u001b[0;34m.\u001b[0m\u001b[0mconj\u001b[0m\u001b[0;34m(\u001b[0m\u001b[0mint_psi\u001b[0m\u001b[0;34m)\u001b[0m \u001b[0;32mif\u001b[0m \u001b[0mwavelet\u001b[0m\u001b[0;34m.\u001b[0m\u001b[0mcomplex_cwt\u001b[0m \u001b[0;32melse\u001b[0m \u001b[0mint_psi\u001b[0m\u001b[0;34m\u001b[0m\u001b[0;34m\u001b[0m\u001b[0m\n\u001b[1;32m    128\u001b[0m \u001b[0;34m\u001b[0m\u001b[0m\n",
      "\u001b[0;32m~/.conda/envs/mecp2/lib/python3.7/site-packages/pywt/_functions.py\u001b[0m in \u001b[0;36mintegrate_wavelet\u001b[0;34m(wavelet, precision)\u001b[0m\n\u001b[1;32m    102\u001b[0m         \u001b[0;32mreturn\u001b[0m \u001b[0m_integrate\u001b[0m\u001b[0;34m(\u001b[0m\u001b[0mpsi\u001b[0m\u001b[0;34m,\u001b[0m \u001b[0mstep\u001b[0m\u001b[0;34m)\u001b[0m\u001b[0;34m,\u001b[0m \u001b[0mx\u001b[0m\u001b[0;34m\u001b[0m\u001b[0;34m\u001b[0m\u001b[0m\n\u001b[1;32m    103\u001b[0m \u001b[0;34m\u001b[0m\u001b[0m\n\u001b[0;32m--> 104\u001b[0;31m     \u001b[0mfunctions_approximations\u001b[0m \u001b[0;34m=\u001b[0m \u001b[0mwavelet\u001b[0m\u001b[0;34m.\u001b[0m\u001b[0mwavefun\u001b[0m\u001b[0;34m(\u001b[0m\u001b[0mprecision\u001b[0m\u001b[0;34m)\u001b[0m\u001b[0;34m\u001b[0m\u001b[0;34m\u001b[0m\u001b[0m\n\u001b[0m\u001b[1;32m    105\u001b[0m \u001b[0;34m\u001b[0m\u001b[0m\n\u001b[1;32m    106\u001b[0m     \u001b[0;32mif\u001b[0m \u001b[0mlen\u001b[0m\u001b[0;34m(\u001b[0m\u001b[0mfunctions_approximations\u001b[0m\u001b[0;34m)\u001b[0m \u001b[0;34m==\u001b[0m \u001b[0;36m2\u001b[0m\u001b[0;34m:\u001b[0m      \u001b[0;31m# continuous wavelet\u001b[0m\u001b[0;34m\u001b[0m\u001b[0;34m\u001b[0m\u001b[0m\n",
      "\u001b[0;32mpywt/_extensions/_pywt.pyx\u001b[0m in \u001b[0;36mpywt._extensions._pywt.ContinuousWavelet.wavefun\u001b[0;34m()\u001b[0m\n",
      "\u001b[0;32mpywt/_extensions/_cwt.pyx\u001b[0m in \u001b[0;36mpywt._extensions._cwt.cwt_psi_single\u001b[0;34m()\u001b[0m\n",
      "\u001b[0;31mTypeError\u001b[0m: must be real number, not NoneType"
     ]
    }
   ],
   "source": [
    "output_signal = cwt_b_spline_wavelet(_signal=_signal, Scales=Scales, M=1, B=3, C=0)"
   ]
  },
  {
   "cell_type": "code",
   "execution_count": 34,
   "metadata": {},
   "outputs": [],
   "source": [
    "M = 3\n",
    "B = 1.0\n",
    "C = 1.0\n",
    "wavelet_obj = pywt.ContinuousWavelet('fbsp' + str(M) + '-' + str(B) + '-' + str(C))\n",
    "# wavelet_obj = pywt.ContinuousWavelet('fbsp3-1-1')\n",
    "output_signal, _ = pywt.cwt(data=_signal, scales=Scales, wavelet=wavelet_obj)"
   ]
  },
  {
   "cell_type": "code",
   "execution_count": 43,
   "metadata": {},
   "outputs": [
    {
     "data": {
      "application/vnd.jupyter.widget-view+json": {
       "model_id": "d03a3ac67e0f427fb4401eeb42e277f0",
       "version_major": 2,
       "version_minor": 0
      },
      "text/plain": [
       "interactive(children=(IntSlider(value=3, description='M', max=10, min=1), FloatSlider(value=1.0, description='…"
      ]
     },
     "metadata": {},
     "output_type": "display_data"
    }
   ],
   "source": [
    "from ipywidgets import interact, interactive, fixed, interact_manual\n",
    "import ipywidgets as widgets\n",
    "\n",
    "def plot_bspline_cwt_output(M=3, B=1.0, C=1.0):\n",
    "    \n",
    "    wavelet_obj = pywt.ContinuousWavelet('fbsp' + str(M) + '-' + str(B) + '-' + str(C))\n",
    "    # wavelet_obj = pywt.ContinuousWavelet('fbsp3-1-1')\n",
    "    output_signal, _ = pywt.cwt(data=_signal, scales=Scales, wavelet=wavelet_obj)\n",
    "    # output_signal = np.real(output_signal)\n",
    "    output_signal = np.imag(output_signal)\n",
    "    with plt.style.context(splstyle.get_style('nature-reviews')):\n",
    "        plt.figure(2)\n",
    "        plt.plot(np.arange(1000),c[-6, :], linewidth=1)\n",
    "        plt.plot(np.arange(1000),output_signal[-6, :], linewidth=0.3)\n",
    "        plt.show()\n",
    "    \n",
    "interactive_plot = interactive(plot_bspline_cwt_output, M=(1, 10), B=1.0, C=1.0)\n",
    "output = interactive_plot.children[-1]\n",
    "output.layout.height = '1000px'\n",
    "interactive_plot"
   ]
  },
  {
   "cell_type": "code",
   "execution_count": 32,
   "metadata": {},
   "outputs": [
    {
     "data": {
      "application/vnd.jupyter.widget-view+json": {
       "model_id": "be71995323a54f339dfe732f08a08826",
       "version_major": 2,
       "version_minor": 0
      },
      "text/plain": [
       "interactive(children=(FloatSlider(value=1.0, description='B', max=3.0, min=-1.0), FloatSlider(value=1.0, descr…"
      ]
     },
     "metadata": {},
     "output_type": "display_data"
    }
   ],
   "source": [
    "from ipywidgets import interact, interactive, fixed, interact_manual\n",
    "import ipywidgets as widgets\n",
    "\n",
    "def plot_imaginer_cmor_output(B=1.0, C=1.0):\n",
    "    \n",
    "    wavelet_obj = pywt.ContinuousWavelet('cmor' + str(B) + '-' + str(C))\n",
    "    # wavelet_obj = pywt.ContinuousWavelet('fbsp3-1-1')\n",
    "    output_signal, _ = pywt.cwt(data=_signal, scales=Scales, wavelet=wavelet_obj)\n",
    "    output_signal = np.imag(output_signal)\n",
    "    \n",
    "    with plt.style.context(splstyle.get_style('nature-reviews')):\n",
    "        plt.figure(2)\n",
    "        plt.plot(np.arange(1000),output_signal[-6, :], linewidth=1)\n",
    "        plt.plot(np.arange(1000),c[-6, :], linewidth=1)\n",
    "        plt.show()\n",
    "    \n",
    "interactive_plot = interactive(plot_imaginer_cmor_output, B=1.0, C=1.0)\n",
    "output = interactive_plot.children[-1]\n",
    "output.layout.height = '1000px'\n",
    "interactive_plot"
   ]
  },
  {
   "cell_type": "code",
   "execution_count": 48,
   "metadata": {},
   "outputs": [
    {
     "data": {
      "image/png": "[encoded data removed]",
      "text/plain": [
       "<Figure size 432x288 with 1 Axes>"
      ]
     },
     "metadata": {
      "needs_background": "light"
     },
     "output_type": "display_data"
    }
   ],
   "source": [
    "%matplotlib inline\n",
    "from ipywidgets import interactive\n",
    "import matplotlib.pyplot as plt\n",
    "import numpy as np\n",
    "\n",
    "def f(m, b):\n",
    "    plt.figure(2)\n",
    "    x = np.linspace(-10, 10, num=1000)\n",
    "    plt.plot(x, m * x + b)\n",
    "    plt.ylim(-5, 5)\n",
    "    plt.show()\n",
    "\n",
    "interactive_plot = interactive(f, m=(-2.0, 2.0), b=(-3, 3, 0.5))\n",
    "output = interactive_plot.children[-1]\n",
    "output.layout.height = '350px'\n",
    "interactive_plot"
   ]
  },
  {
   "cell_type": "code",
   "execution_count": 260,
   "metadata": {},
   "outputs": [],
   "source": [
    "# try discrete wavelet transform \n",
    "# c = pywt.dwt(data=_signal, wavelet=wname)\n",
    "\n",
    "# Multilevel decomposition using wavedec \n",
    "# c =  pywt.wavedec(data=_signal, wavelet=wname)\n",
    "\n",
    "# Statinary wavelet transform \n",
    "# This has the advnatage of not downsapmling the signal\n",
    "# c =  pywt.swt(data=_signal, wavelet=wname, level=3)"
   ]
  },
  {
   "cell_type": "code",
   "execution_count": 261,
   "metadata": {},
   "outputs": [],
   "source": [
    "# np.shape(c[2])"
   ]
  },
  {
   "cell_type": "code",
   "execution_count": 262,
   "metadata": {},
   "outputs": [],
   "source": [
    "# plt.imshow(c[2], aspect='auto', cmap='gray')"
   ]
  },
  {
   "cell_type": "code",
   "execution_count": 267,
   "metadata": {},
   "outputs": [],
   "source": [
    "Ind = np.empty(shape=2)\n",
    "WidthTable = np.empty(shape=len(Scales))\n",
    "\n",
    "for i in np.arange(len(Scales)):\n",
    "    # indicators of positive coefficients\n",
    "    IndPos = (c[i, :] > 0).astype(int)\n",
    "    # indicators of derivative\n",
    "    IndDer = np.diff(IndPos)\n",
    "    if wname == 'sym2':\n",
    "        # indices of positive slope zero crossings\n",
    "        IndZeroCross = np.where(IndDer == 1)[0]  \n",
    "    else:\n",
    "        # indices of negative slope zero crossings\n",
    "        IndZeroCross = np.where(IndDer == -1)[0] \n",
    "    IndMax = (IndZeroCross > 499).astype(int)\n",
    "    Ind[1] = np.min(IndZeroCross[np.where(IndMax)]) + 1\n",
    "    IndMin = (IndZeroCross < 499).astype(int)\n",
    "    Ind[0] = np.max(IndZeroCross[np.where(IndMin)])\n",
    "    WidthTable[i] = np.diff(Ind) * dt\n"
   ]
  },
  {
   "cell_type": "code",
   "execution_count": 268,
   "metadata": {},
   "outputs": [],
   "source": [
    "WidthTable = WidthTable + np.arange(1, len(Scales)+1) * Eps\n",
    "\n",
    "# Loop-up table\n",
    "Scale = np.empty(shape=2)\n",
    "Scale = np.round(np.interp(xp=WidthTable, fp=Scales, x=Width))  # linear interpolation\n",
    "\n"
   ]
  },
  {
   "cell_type": "code",
   "execution_count": 269,
   "metadata": {},
   "outputs": [
    {
     "data": {
      "text/plain": [
       "array([ 8., 18.])"
      ]
     },
     "execution_count": 269,
     "metadata": {},
     "output_type": "execute_result"
    }
   ],
   "source": [
    "Scale"
   ]
  },
  {
   "cell_type": "code",
   "execution_count": 246,
   "metadata": {},
   "outputs": [
    {
     "data": {
      "text/plain": [
       "313"
      ]
     },
     "execution_count": 246,
     "metadata": {},
     "output_type": "execute_result"
    }
   ],
   "source": [
    "np.min(IndZeroCross[IndMax])"
   ]
  },
  {
   "cell_type": "code",
   "execution_count": 248,
   "metadata": {},
   "outputs": [
    {
     "data": {
      "text/plain": [
       "array([ 8., 18.])"
      ]
     },
     "execution_count": 248,
     "metadata": {},
     "output_type": "execute_result"
    }
   ],
   "source": [
    "Scale"
   ]
  },
  {
   "cell_type": "code",
   "execution_count": 242,
   "metadata": {},
   "outputs": [
    {
     "data": {
      "text/plain": [
       "array([313, 315, 320, 328, 345, 379, 448, 549, 618, 652, 669, 678, 682,\n",
       "       684, 686])"
      ]
     },
     "execution_count": 242,
     "metadata": {},
     "output_type": "execute_result"
    }
   ],
   "source": [
    "IndZeroCross"
   ]
  },
  {
   "cell_type": "markdown",
   "metadata": {},
   "source": [
    "## Plotting the wavelet shapes"
   ]
  },
  {
   "cell_type": "code",
   "execution_count": 142,
   "metadata": {},
   "outputs": [
    {
     "data": {
      "text/plain": [
       "[<matplotlib.lines.Line2D at 0x7efbb14ae6d0>]"
      ]
     },
     "execution_count": 142,
     "metadata": {},
     "output_type": "execute_result"
    },
    {
     "data": {
      "image/png": "[encoded data removed]",
      "text/plain": [
       "<Figure size 432x288 with 1 Axes>"
      ]
     },
     "metadata": {
      "needs_background": "light"
     },
     "output_type": "display_data"
    }
   ],
   "source": [
    "fig, ax = plt.subplots()\n",
    "\n",
    "wavelet = pywt.ContinuousWavelet('gaus5')\n",
    "# wavelet_handle = wavelet.wavefun()\n",
    "wavelet_y, wavelet_x =  wavelet.wavefun()\n",
    "\n",
    "bior_wavelet = pywt.Wavelet('bior1.5')\n",
    "bior_output = bior_wavelet.wavefun()\n",
    "bior_y = bior_output[1]  # quite strange that the first output looks entirely differnt\n",
    "# why is that, and I can't find this is here either:\n",
    "# https://uk.mathworks.com/help/wavelet/gs/introduction-to-the-wavelet-families.html\n",
    "bior_x = bior_output[-1]\n",
    "\n",
    "ax.plot(wavelet_x, wavelet_y)\n",
    "\n",
    "ax.plot(bior_x, bior_y)"
   ]
  },
  {
   "cell_type": "code",
   "execution_count": 131,
   "metadata": {},
   "outputs": [
    {
     "data": {
      "text/plain": [
       "array([0.00000000e+00, 3.90625000e-03, 7.81250000e-03, ...,\n",
       "       8.98828125e+00, 8.99218750e+00, 8.99609375e+00])"
      ]
     },
     "execution_count": 131,
     "metadata": {},
     "output_type": "execute_result"
    }
   ],
   "source": [
    "bior_output[-1]"
   ]
  },
  {
   "cell_type": "markdown",
   "metadata": {},
   "source": [
    "## Continuous wavelet transform or discrete wavelet transform?"
   ]
  },
  {
   "cell_type": "code",
   "execution_count": 273,
   "metadata": {},
   "outputs": [
    {
     "data": {
      "text/plain": [
       "array([ 2,  3,  4,  5,  6,  7,  8,  9, 10, 11, 12, 13, 14, 15, 16, 17, 18,\n",
       "       19, 20, 21, 22, 23, 24, 25, 26, 27, 28, 29, 30, 31, 32, 33, 34, 35,\n",
       "       36, 37, 38, 39, 40, 41, 42, 43, 44, 45, 46, 47, 48, 49, 50, 51, 52,\n",
       "       53, 54, 55, 56, 57, 58, 59, 60, 61, 62, 63, 64, 65, 66, 67, 68, 69,\n",
       "       70, 71, 72, 73, 74, 75])"
      ]
     },
     "execution_count": 273,
     "metadata": {},
     "output_type": "execute_result"
    }
   ],
   "source": [
    "Scales"
   ]
  },
  {
   "cell_type": "markdown",
   "metadata": {},
   "source": [
    "# Try directly calling matlab"
   ]
  },
  {
   "cell_type": "code",
   "execution_count": 7,
   "metadata": {},
   "outputs": [],
   "source": [
    "import matlab.engine\n",
    "eng = matlab.engine.start_matlab()"
   ]
  },
  {
   "cell_type": "code",
   "execution_count": 285,
   "metadata": {},
   "outputs": [],
   "source": [
    "A = matlab.double(_signal.tolist())\n",
    "c = eng.cwt(A,matlab.double(Scales.tolist()),'bior1.5')"
   ]
  },
  {
   "cell_type": "code",
   "execution_count": 4,
   "metadata": {},
   "outputs": [
    {
     "data": {
      "text/plain": [
       "(60, 7500000)"
      ]
     },
     "execution_count": 4,
     "metadata": {},
     "output_type": "execute_result"
    }
   ],
   "source": [
    "np.shape(signal)"
   ]
  },
  {
   "cell_type": "code",
   "execution_count": 10,
   "metadata": {},
   "outputs": [
    {
     "data": {
      "text/plain": [
       "[-4006.9557,\n",
       " -4003.7811,\n",
       " -4000.6065,\n",
       " -4000.7286,\n",
       " -4003.659,\n",
       " -4006.8336,\n",
       " -4009.3977,\n",
       " -4010.985,\n",
       " -4011.9618,\n",
       " -4013.5491,\n",
       " -4012.9386,\n",
       " -4009.0314,\n",
       " -4007.322,\n",
       " -4008.543,\n",
       " -4009.2756,\n",
       " -4007.4441,\n",
       " -4006.3452,\n",
       " -4006.101,\n",
       " -4004.2695,\n",
       " -4001.5833,\n",
       " -4002.5601,\n",
       " -4005.6126,\n",
       " -4005.9789,\n",
       " -4005.7347,\n",
       " -4005.3684,\n",
       " -4004.3916,\n",
       " -4005.8568,\n",
       " -4008.4209,\n",
       " -4006.101,\n",
       " -4001.5833,\n",
       " -4000.6065,\n",
       " -4002.6822,\n",
       " -4004.7579,\n",
       " -4005.9789,\n",
       " -4006.101,\n",
       " -4006.9557,\n",
       " -4008.9093,\n",
       " -4007.6883,\n",
       " -4004.7579,\n",
       " -4005.2463,\n",
       " -4008.0546,\n",
       " -4008.7872,\n",
       " -4007.1999,\n",
       " -4004.1474,\n",
       " -4002.1938,\n",
       " -4004.6358,\n",
       " -4008.6651,\n",
       " -4008.4209,\n",
       " -4006.101,\n",
       " -4007.0778,\n",
       " -4009.0314,\n",
       " -4007.6883,\n",
       " -4003.7811,\n",
       " -4000.4844,\n",
       " -3999.0192,\n",
       " -3999.0192,\n",
       " -3998.5308,\n",
       " -3998.1645,\n",
       " -3997.7982,\n",
       " -3995.112,\n",
       " -3993.891,\n",
       " -3995.6004,\n",
       " -3998.6529,\n",
       " -4001.217,\n",
       " -4001.4612,\n",
       " -3999.6297,\n",
       " -3998.775,\n",
       " -4000.9728,\n",
       " -4004.88,\n",
       " -4007.5662,\n",
       " -4005.6126,\n",
       " -4001.4612,\n",
       " -3997.3098,\n",
       " -3993.2805,\n",
       " -3990.3501,\n",
       " -3989.3733,\n",
       " -3990.1059,\n",
       " -3992.5479,\n",
       " -3995.8446,\n",
       " -3998.775,\n",
       " -3999.3855,\n",
       " -3997.554,\n",
       " -3996.4551,\n",
       " -3998.8971,\n",
       " -4004.0253,\n",
       " -4006.5894,\n",
       " -4004.7579,\n",
       " -4002.1938,\n",
       " -4003.1706,\n",
       " -4005.6126,\n",
       " -4005.6126,\n",
       " -4004.3916,\n",
       " -4006.101,\n",
       " -4008.0546,\n",
       " -4006.3452,\n",
       " -4002.9264,\n",
       " -4000.4844,\n",
       " -4000.9728,\n",
       " -4003.0485,\n",
       " -4003.9032,\n",
       " -4003.0485,\n",
       " -4000.3623000000002,\n",
       " -3999.6297,\n",
       " -3999.996,\n",
       " -4001.8275,\n",
       " -4003.659,\n",
       " -4005.2463,\n",
       " -4006.4673,\n",
       " -4007.322,\n",
       " -4008.4209,\n",
       " -4006.5894,\n",
       " -4003.0485,\n",
       " -4000.3623000000002,\n",
       " -3998.1645,\n",
       " -3996.6993,\n",
       " -3998.4087,\n",
       " -4002.438,\n",
       " -4003.5369,\n",
       " -4002.8043,\n",
       " -4003.9032,\n",
       " -4004.6358,\n",
       " -4003.7811,\n",
       " -4002.438,\n",
       " -4001.5833,\n",
       " -4002.438,\n",
       " -4004.3916,\n",
       " -4004.7579,\n",
       " -4003.5369,\n",
       " -4003.4148,\n",
       " -4004.88,\n",
       " -4006.2231,\n",
       " -4007.5662,\n",
       " -4007.9325,\n",
       " -4005.4905,\n",
       " -4000.2402,\n",
       " -3996.2109,\n",
       " -3995.6004,\n",
       " -3996.8214,\n",
       " -4000.3623000000002,\n",
       " -4004.1474,\n",
       " -4006.101,\n",
       " -4007.1999,\n",
       " -4007.322,\n",
       " -4005.9789,\n",
       " -4005.1242,\n",
       " -4005.4905,\n",
       " -4005.0021,\n",
       " -4004.0253,\n",
       " -4005.1242,\n",
       " -4007.6883,\n",
       " -4009.3977,\n",
       " -4009.1535,\n",
       " -4006.4673,\n",
       " -4002.1938,\n",
       " -4001.0949,\n",
       " -4003.1706,\n",
       " -4002.8043,\n",
       " -4001.0949,\n",
       " -4001.5833,\n",
       " -4002.8043,\n",
       " -4004.5137,\n",
       " -4007.8104,\n",
       " -4010.0082,\n",
       " -4009.8861,\n",
       " -4008.4209,\n",
       " -4006.9557,\n",
       " -4005.1242,\n",
       " -4005.0021,\n",
       " -4006.2231,\n",
       " -4006.5894,\n",
       " -4004.0253,\n",
       " -3997.9203,\n",
       " -3993.891,\n",
       " -3994.5015,\n",
       " -3994.8678,\n",
       " -3994.5015,\n",
       " -3995.2341,\n",
       " -3995.9667,\n",
       " -3998.1645,\n",
       " -4000.9728,\n",
       " -4001.8275,\n",
       " -4001.217,\n",
       " -4001.0949,\n",
       " -4001.9496,\n",
       " -4002.5601,\n",
       " -4002.6822,\n",
       " -4002.6822,\n",
       " -4004.0253,\n",
       " -4006.5894,\n",
       " -4009.0314,\n",
       " -4009.8861,\n",
       " -4009.2756,\n",
       " -4007.322,\n",
       " -4005.4905,\n",
       " -4004.6358,\n",
       " -4005.0021,\n",
       " -4006.7115,\n",
       " -4008.7872,\n",
       " -4010.6187,\n",
       " -4010.4966,\n",
       " -4007.1999,\n",
       " -4004.5137,\n",
       " -4003.9032,\n",
       " -4003.0485,\n",
       " -4002.5601,\n",
       " -4002.1938,\n",
       " -4000.1181,\n",
       " -3999.0192,\n",
       " -4001.217,\n",
       " -4000.8507,\n",
       " -3996.9435,\n",
       " -3997.3098,\n",
       " -4000.7286,\n",
       " -4003.5369,\n",
       " -4004.1474,\n",
       " -4003.659,\n",
       " -4003.4148,\n",
       " -4004.3916,\n",
       " -4006.3452,\n",
       " -4007.5662,\n",
       " -4008.1767,\n",
       " -4010.7408,\n",
       " -4012.0839,\n",
       " -4009.8861,\n",
       " -4008.7872,\n",
       " -4010.7408,\n",
       " -4012.206,\n",
       " -4011.5955,\n",
       " -4010.8629,\n",
       " -4010.6187,\n",
       " -4010.8629,\n",
       " -4008.4209,\n",
       " -4004.3916,\n",
       " -4003.659,\n",
       " -4004.88,\n",
       " -4004.5137,\n",
       " -4004.7579,\n",
       " -4006.3452,\n",
       " -4008.0546,\n",
       " -4009.8861,\n",
       " -4009.764,\n",
       " -4007.0778,\n",
       " -4005.9789,\n",
       " -4006.8336,\n",
       " -4008.4209,\n",
       " -4009.2756,\n",
       " -4007.9325,\n",
       " -4005.6126,\n",
       " -4005.8568,\n",
       " -4006.9557,\n",
       " -4006.8336,\n",
       " -4006.9557,\n",
       " -4008.9093,\n",
       " -4011.3513,\n",
       " -4010.985,\n",
       " -4009.6419,\n",
       " -4007.6883,\n",
       " -4005.4905,\n",
       " -4005.0021,\n",
       " -4005.2463,\n",
       " -4004.88,\n",
       " -4003.1706,\n",
       " -4002.1938,\n",
       " -4004.6358,\n",
       " -4010.1303,\n",
       " -4012.206,\n",
       " -4010.0082,\n",
       " -4006.3452,\n",
       " -4004.5137,\n",
       " -4005.2463,\n",
       " -4005.1242,\n",
       " -4004.88,\n",
       " -4003.7811,\n",
       " -4001.4612,\n",
       " -3998.8971,\n",
       " -3995.7225,\n",
       " -3993.1584,\n",
       " -3993.4026,\n",
       " -3994.7457,\n",
       " -3994.6236,\n",
       " -3994.2573,\n",
       " -3994.6236,\n",
       " -3996.0888,\n",
       " -3997.7982,\n",
       " -3999.2634,\n",
       " -4000.6065,\n",
       " -3998.4087,\n",
       " -3995.3562,\n",
       " -3996.333,\n",
       " -3997.9203,\n",
       " -3999.5076,\n",
       " -4000.3623000000002,\n",
       " -4000.1181,\n",
       " -3999.7518,\n",
       " -4000.1181,\n",
       " -3999.6297,\n",
       " -3998.6529,\n",
       " -3999.5076,\n",
       " -4000.9728,\n",
       " -4002.3159,\n",
       " -4003.2927,\n",
       " -4003.2927,\n",
       " -4002.5601,\n",
       " -3999.8739,\n",
       " -3996.9435,\n",
       " -3995.3562,\n",
       " -3995.6004,\n",
       " -3996.4551,\n",
       " -3996.6993,\n",
       " -3996.6993,\n",
       " -3997.4319,\n",
       " -3997.0656,\n",
       " -3995.4783,\n",
       " -3995.7225,\n",
       " -3996.5772,\n",
       " -3995.9667,\n",
       " -3994.2573,\n",
       " -3992.1816,\n",
       " -3989.9838,\n",
       " -3989.6175,\n",
       " -3991.6932,\n",
       " -3994.0131,\n",
       " -3993.6468,\n",
       " -3992.4258,\n",
       " -3993.891,\n",
       " -3993.5247,\n",
       " -3990.4722,\n",
       " -3991.5711,\n",
       " -3996.9435,\n",
       " -4000.8507,\n",
       " -4001.9496,\n",
       " -4002.438,\n",
       " -4002.3159,\n",
       " -3999.1413000000002,\n",
       " -3994.1352,\n",
       " -3990.7164,\n",
       " -3989.7396,\n",
       " -3991.9374,\n",
       " -3995.3562,\n",
       " -3997.3098,\n",
       " -3997.0656,\n",
       " -3995.6004,\n",
       " -3994.9899,\n",
       " -3996.4551,\n",
       " -3998.1645,\n",
       " -3998.0424,\n",
       " -3997.0656,\n",
       " -3999.3855,\n",
       " -4004.0253,\n",
       " -4004.88,\n",
       " -4001.9496,\n",
       " -4000.4844,\n",
       " -4001.217,\n",
       " -4002.0717,\n",
       " -4001.3391,\n",
       " -3998.6529,\n",
       " -3994.9899,\n",
       " -3993.1584,\n",
       " -3992.5479,\n",
       " -3993.5247,\n",
       " -3996.4551,\n",
       " -3999.8739,\n",
       " -4001.8275,\n",
       " -4000.7286,\n",
       " -3997.9203,\n",
       " -3994.9899,\n",
       " -3991.9374,\n",
       " -3990.9606,\n",
       " -3993.2805,\n",
       " -3994.1352,\n",
       " -3992.0595,\n",
       " -3990.4722,\n",
       " -3991.2048,\n",
       " -3994.5015,\n",
       " -3997.9203,\n",
       " -4000.9728,\n",
       " -4003.1706,\n",
       " -4003.5369,\n",
       " -4000.8507,\n",
       " -3995.6004,\n",
       " -3992.7921,\n",
       " -3993.0363,\n",
       " -3993.0363,\n",
       " -3993.2805,\n",
       " -3993.4026,\n",
       " -3991.3269,\n",
       " -3989.007,\n",
       " -3989.6175,\n",
       " -3991.9374,\n",
       " -3994.7457,\n",
       " -3995.4783,\n",
       " -3995.8446,\n",
       " -3998.4087,\n",
       " -4001.7054,\n",
       " -4004.1474,\n",
       " -4005.8568,\n",
       " -4004.1474,\n",
       " -3999.7518,\n",
       " -3997.1877,\n",
       " -3996.8214,\n",
       " -3996.2109,\n",
       " -3996.5772,\n",
       " -3999.5076,\n",
       " -4003.9032,\n",
       " -4005.6126,\n",
       " -4002.9264,\n",
       " -3999.1413000000002,\n",
       " -3997.3098,\n",
       " -3998.8971,\n",
       " -4002.0717,\n",
       " -4005.2463,\n",
       " -4005.9789,\n",
       " -4003.5369,\n",
       " -4000.2402,\n",
       " -3998.6529,\n",
       " -3999.6297,\n",
       " -4001.9496,\n",
       " -4004.6358,\n",
       " -4006.101,\n",
       " -4005.0021,\n",
       " -4002.8043,\n",
       " -4000.2402,\n",
       " -3999.5076,\n",
       " -4000.6065,\n",
       " -4001.0949,\n",
       " -4001.0949,\n",
       " -4000.8507,\n",
       " -3999.1413000000002,\n",
       " -3996.0888,\n",
       " -3995.3562,\n",
       " -3999.5076,\n",
       " -4002.5601,\n",
       " -4000.2402,\n",
       " -3995.7225,\n",
       " -3993.891,\n",
       " -3996.2109,\n",
       " -4001.4612,\n",
       " -4005.8568,\n",
       " -4008.1767,\n",
       " -4007.1999,\n",
       " -4003.2927,\n",
       " -4001.0949,\n",
       " -4000.8507,\n",
       " -4001.4612,\n",
       " -4001.3391,\n",
       " -4000.6065,\n",
       " -4001.0949,\n",
       " -4001.9496,\n",
       " -4000.8507,\n",
       " -3999.6297,\n",
       " -4000.6065,\n",
       " -4001.9496,\n",
       " -4002.438,\n",
       " -4004.6358,\n",
       " -4007.1999,\n",
       " -4007.0778,\n",
       " -4005.0021,\n",
       " -4004.0253,\n",
       " -4004.2695,\n",
       " -4005.1242,\n",
       " -4008.543,\n",
       " -4011.3513,\n",
       " -4009.764,\n",
       " -4005.0021,\n",
       " -4001.0949,\n",
       " -4000.6065,\n",
       " -4001.7054,\n",
       " -3999.7518,\n",
       " -3996.4551,\n",
       " -3994.5015,\n",
       " -3994.7457,\n",
       " -3996.8214,\n",
       " -3998.8971,\n",
       " -3999.5076,\n",
       " -3998.5308,\n",
       " -3995.2341,\n",
       " -3991.9374,\n",
       " -3990.8385,\n",
       " -3990.5943,\n",
       " -3991.3269,\n",
       " -3993.2805,\n",
       " -3994.2573,\n",
       " -3994.0131,\n",
       " -3994.7457,\n",
       " -3995.3562,\n",
       " -3995.2341,\n",
       " -3994.0131,\n",
       " -3994.0131,\n",
       " -3995.7225,\n",
       " -3996.0888,\n",
       " -3995.8446,\n",
       " -3996.8214,\n",
       " -3997.4319,\n",
       " -3996.4551,\n",
       " -3994.7457,\n",
       " -3995.4783,\n",
       " -3998.0424,\n",
       " -3999.5076,\n",
       " -4000.6065,\n",
       " -4001.5833,\n",
       " -4003.9032,\n",
       " -4006.8336,\n",
       " -4007.4441,\n",
       " -4005.0021,\n",
       " -4002.3159,\n",
       " -4001.9496,\n",
       " -4003.1706,\n",
       " -4003.9032,\n",
       " -4002.9264,\n",
       " -4001.7054,\n",
       " -4002.6822,\n",
       " -4005.0021,\n",
       " -4004.2695,\n",
       " -4001.8275,\n",
       " -4000.4844,\n",
       " -3999.1413000000002,\n",
       " -3995.9667,\n",
       " -3994.5015,\n",
       " -3996.6993,\n",
       " -4001.3391,\n",
       " -4005.7347,\n",
       " -4005.3684,\n",
       " -4002.5601,\n",
       " -4000.4844,\n",
       " -3999.6297,\n",
       " -3998.4087,\n",
       " -3997.9203,\n",
       " -3999.2634,\n",
       " -3999.5076,\n",
       " -3997.3098,\n",
       " -3994.7457,\n",
       " -3992.1816,\n",
       " -3990.5943,\n",
       " -3989.4954,\n",
       " -3989.3733,\n",
       " -3991.0827,\n",
       " -3994.2573,\n",
       " -3998.4087,\n",
       " -4002.1938,\n",
       " -4003.7811,\n",
       " -4003.2927,\n",
       " -4001.8275,\n",
       " -4000.8507,\n",
       " -4001.0949,\n",
       " -4002.8043,\n",
       " -4004.88,\n",
       " -4005.7347,\n",
       " -4005.0021,\n",
       " -4002.1938,\n",
       " -3998.2866,\n",
       " -3996.5772,\n",
       " -3997.3098,\n",
       " -3999.3855,\n",
       " -4001.5833,\n",
       " -4003.0485,\n",
       " -4002.6822,\n",
       " -4000.7286,\n",
       " -3998.0424,\n",
       " -3997.554,\n",
       " -3998.2866,\n",
       " -3998.1645,\n",
       " -4000.3623000000002,\n",
       " -4003.2927,\n",
       " -4006.5894,\n",
       " -4009.5198,\n",
       " -4010.0082,\n",
       " -4009.1535,\n",
       " -4007.6883,\n",
       " -4006.2231,\n",
       " -4004.6358,\n",
       " -4004.88,\n",
       " -4008.4209,\n",
       " -4011.4734,\n",
       " -4010.0082,\n",
       " -4005.6126,\n",
       " -4002.6822,\n",
       " -4002.438,\n",
       " -4001.5833,\n",
       " -3999.7518,\n",
       " -3999.1413000000002,\n",
       " -3998.1645,\n",
       " -3999.5076,\n",
       " -4004.88,\n",
       " -4008.6651,\n",
       " -4008.2988,\n",
       " -4007.4441,\n",
       " -4007.322,\n",
       " -4005.9789,\n",
       " -4004.2695,\n",
       " -4003.9032,\n",
       " -4003.4148,\n",
       " -4000.7286,\n",
       " -3998.6529,\n",
       " -4000.3623000000002,\n",
       " -4003.659,\n",
       " -4006.7115,\n",
       " -4009.6419,\n",
       " -4010.8629,\n",
       " -4010.4966,\n",
       " -4010.0082,\n",
       " -4008.2988,\n",
       " -4005.4905,\n",
       " -4002.9264,\n",
       " -4003.0485,\n",
       " -4003.5369,\n",
       " -4003.2927,\n",
       " -4004.1474,\n",
       " -4005.3684,\n",
       " -4007.1999,\n",
       " -4006.5894,\n",
       " -4002.3159,\n",
       " -3997.7982,\n",
       " -3996.0888,\n",
       " -3996.333,\n",
       " -3996.8214,\n",
       " -3998.2866,\n",
       " -3999.7518,\n",
       " -4000.1181,\n",
       " -4001.8275,\n",
       " -4003.4148,\n",
       " -4003.4148,\n",
       " -4001.217,\n",
       " -3998.4087,\n",
       " -3997.3098,\n",
       " -3999.5076,\n",
       " -4004.0253,\n",
       " -4007.8104,\n",
       " -4008.6651,\n",
       " -4006.7115,\n",
       " -4004.88,\n",
       " -4004.6358,\n",
       " -4005.7347,\n",
       " -4007.4441,\n",
       " -4008.543,\n",
       " -4007.322,\n",
       " -4005.8568,\n",
       " -4002.5601,\n",
       " -3998.4087,\n",
       " -3996.8214,\n",
       " -3997.1877,\n",
       " -3998.6529,\n",
       " -4000.6065,\n",
       " -4001.7054,\n",
       " -4001.5833,\n",
       " -4000.2402,\n",
       " -3999.3855,\n",
       " -3999.6297,\n",
       " -4000.3623000000002,\n",
       " -4002.6822,\n",
       " -4006.9557,\n",
       " -4006.8336,\n",
       " -4002.0717,\n",
       " -3997.1877,\n",
       " -3994.8678,\n",
       " -3995.8446,\n",
       " -3996.4551,\n",
       " -3995.3562,\n",
       " -3995.7225,\n",
       " -3993.7689,\n",
       " -3989.7396,\n",
       " -3988.7628,\n",
       " -3993.1584,\n",
       " -4000.4844,\n",
       " -4004.0253,\n",
       " -4000.9728,\n",
       " -3996.5772,\n",
       " -3994.2573,\n",
       " -3994.1352,\n",
       " -3993.5247,\n",
       " -3992.4258,\n",
       " -3992.5479,\n",
       " -3994.5015,\n",
       " -3998.1645,\n",
       " -4000.3623000000002,\n",
       " -4000.1181,\n",
       " -3997.6761,\n",
       " -3993.891,\n",
       " -3992.3037,\n",
       " -3992.4258,\n",
       " -3993.2805,\n",
       " -3994.0131,\n",
       " -3993.6468,\n",
       " -3993.7689,\n",
       " -3994.1352,\n",
       " -3993.2805,\n",
       " -3994.9899,\n",
       " -4000.2402,\n",
       " -4003.2927,\n",
       " -3999.996,\n",
       " -3994.6236,\n",
       " -3992.7921,\n",
       " -3993.6468,\n",
       " -3995.6004,\n",
       " -3998.5308,\n",
       " -4001.217,\n",
       " -4004.7579,\n",
       " -4006.9557,\n",
       " -4004.7579,\n",
       " -4000.1181,\n",
       " -3998.1645,\n",
       " -3999.8739,\n",
       " -4000.2402,\n",
       " -3998.2866,\n",
       " -3998.0424,\n",
       " -3999.8739,\n",
       " -4000.6065,\n",
       " -3999.6297,\n",
       " -4000.2402,\n",
       " -4000.9728,\n",
       " -4001.4612,\n",
       " -4003.7811,\n",
       " -4006.8336,\n",
       " -4006.3452,\n",
       " -4002.1938,\n",
       " -3999.8739,\n",
       " -4001.3391,\n",
       " -4003.4148,\n",
       " -4003.7811,\n",
       " -4003.1706,\n",
       " -4003.0485,\n",
       " -4005.4905,\n",
       " -4007.5662,\n",
       " -4007.5662,\n",
       " -4004.6358,\n",
       " -4000.6065,\n",
       " -3999.996,\n",
       " -4001.217,\n",
       " -4002.6822,\n",
       " -4005.7347,\n",
       " -4008.4209,\n",
       " -4008.7872,\n",
       " -4006.4673,\n",
       " -4002.6822,\n",
       " -4000.2402,\n",
       " -3999.8739,\n",
       " -4001.3391,\n",
       " -4003.659,\n",
       " -4002.1938,\n",
       " -3998.8971,\n",
       " -3998.775,\n",
       " -3999.2634,\n",
       " -3997.7982,\n",
       " -3996.9435,\n",
       " -3998.1645,\n",
       " -4000.9728,\n",
       " -4004.7579,\n",
       " -4008.1767,\n",
       " -4008.6651,\n",
       " -4003.659,\n",
       " -3996.6993,\n",
       " -3995.2341,\n",
       " -3999.1413000000002,\n",
       " -4002.6822,\n",
       " -4004.2695,\n",
       " -4003.7811,\n",
       " -4004.1474,\n",
       " -4004.2695,\n",
       " -4002.5601,\n",
       " -4001.5833,\n",
       " -4002.3159,\n",
       " -4004.3916,\n",
       " -4005.6126,\n",
       " -4003.2927,\n",
       " -3999.6297,\n",
       " -3997.1877,\n",
       " -3994.2573,\n",
       " -3990.8385,\n",
       " -3989.8617,\n",
       " -3990.1059,\n",
       " -3990.8385,\n",
       " -3992.1816,\n",
       " -3993.4026,\n",
       " -3993.6468,\n",
       " -3995.3562,\n",
       " -3999.2634,\n",
       " -4002.5601,\n",
       " -4005.1242,\n",
       " -4006.5894,\n",
       " -4005.4905,\n",
       " -4003.659,\n",
       " -4001.0949,\n",
       " -4000.8507,\n",
       " -4001.0949,\n",
       " -3999.7518,\n",
       " -3997.6761,\n",
       " -3994.9899,\n",
       " -3993.0363,\n",
       " -3993.4026,\n",
       " -3994.9899,\n",
       " -3997.0656,\n",
       " -3998.775,\n",
       " -4001.9496,\n",
       " -4005.9789,\n",
       " -4007.0778,\n",
       " -4003.9032,\n",
       " -4001.7054,\n",
       " -4002.3159,\n",
       " -4002.8043,\n",
       " -4001.8275,\n",
       " -4000.8507,\n",
       " -4000.8507,\n",
       " -4001.0949,\n",
       " -4001.3391,\n",
       " -4002.0717,\n",
       " -4001.9496,\n",
       " -4000.8507,\n",
       " -3999.7518,\n",
       " -3998.6529,\n",
       " -3998.2866,\n",
       " -3997.9203,\n",
       " -3997.1877,\n",
       " -3998.0424,\n",
       " -3998.5308,\n",
       " -3998.6529,\n",
       " -3999.996,\n",
       " -4001.4612,\n",
       " -4003.2927,\n",
       " -4005.7347,\n",
       " -4007.4441,\n",
       " -4007.4441,\n",
       " -4005.1242,\n",
       " -4001.7054,\n",
       " -3998.8971,\n",
       " -3998.0424,\n",
       " -3998.775,\n",
       " -3999.996,\n",
       " -4000.4844,\n",
       " -3999.996,\n",
       " -3998.6529,\n",
       " -3998.8971,\n",
       " -3999.996,\n",
       " -3999.8739,\n",
       " -3998.8971,\n",
       " -4000.7286,\n",
       " -4003.7811,\n",
       " -4003.4148,\n",
       " -4000.3623000000002,\n",
       " -3997.3098,\n",
       " -3994.9899,\n",
       " -3993.2805,\n",
       " -3993.1584,\n",
       " -3995.4783,\n",
       " -4000.7286,\n",
       " -4003.5369,\n",
       " -4000.7286,\n",
       " -3997.0656,\n",
       " -3995.3562,\n",
       " -3993.6468,\n",
       " -3991.3269,\n",
       " -3990.9606,\n",
       " -3994.5015,\n",
       " -3995.6004,\n",
       " -3992.5479,\n",
       " -3991.5711,\n",
       " -3995.112,\n",
       " -3999.3855,\n",
       " -4001.217,\n",
       " -4000.2402,\n",
       " -3999.7518,\n",
       " -3999.8739,\n",
       " -4000.2402,\n",
       " -4000.1181,\n",
       " -3998.8971,\n",
       " -3999.1413000000002,\n",
       " -4000.4844,\n",
       " -4000.9728,\n",
       " -4000.3623000000002,\n",
       " -3999.996,\n",
       " -3999.8739,\n",
       " -3999.8739,\n",
       " -3999.7518,\n",
       " -3999.3855,\n",
       " -3998.5308,\n",
       " -3998.1645,\n",
       " -3998.2866,\n",
       " -3997.0656,\n",
       " -3993.1584,\n",
       " -3992.1816,\n",
       " -3995.112,\n",
       " -3997.3098,\n",
       " -3998.2866,\n",
       " -3998.8971,\n",
       " -3998.0424,\n",
       " -3997.4319,\n",
       " -3999.7518,\n",
       " -4003.1706,\n",
       " -4003.4148,\n",
       " -4002.6822,\n",
       " -4002.8043,\n",
       " -4001.3391,\n",
       " -3997.1877,\n",
       " -3993.7689,\n",
       " -3993.4026,\n",
       " -3992.9142,\n",
       " -3992.5479,\n",
       " -3992.1816,\n",
       " -3991.9374,\n",
       " -3993.2805,\n",
       " -3991.9374,\n",
       " -3988.8849,\n",
       " -3989.6175,\n",
       " -3993.1584,\n",
       " -3995.2341,\n",
       " -3992.1816,\n",
       " -3988.1523,\n",
       " -3989.8617,\n",
       " -3993.891,\n",
       " -3997.4319,\n",
       " -4000.6065,\n",
       " -4002.6822,\n",
       " -4003.5369,\n",
       " -4001.7054,\n",
       " -3998.1645,\n",
       " -3996.9435,\n",
       " -3996.9435,\n",
       " -3996.8214,\n",
       " -3999.8739,\n",
       " -4003.4148,\n",
       " -4002.1938,\n",
       " -3998.8971,\n",
       " -3997.9203,\n",
       " -3998.775,\n",
       " -3998.5308,\n",
       " -3997.6761,\n",
       " -3998.0424,\n",
       " -3996.6993,\n",
       " -3995.3562,\n",
       " -3998.2866,\n",
       " -4003.4148,\n",
       " -4005.1242,\n",
       " -4002.6822,\n",
       " -4000.6065,\n",
       " -4001.0949,\n",
       " -4003.0485,\n",
       " -4005.3684,\n",
       " -4003.7811,\n",
       " -3999.996,\n",
       " -3997.3098,\n",
       " -3998.0424,\n",
       " -4001.3391,\n",
       " -4004.7579,\n",
       " -4005.9789,\n",
       " -4003.5369,\n",
       " -3999.5076,\n",
       " -3995.9667,\n",
       " -3994.7457,\n",
       " -3996.4551,\n",
       " -3998.4087,\n",
       " -3998.8971,\n",
       " -3998.0424,\n",
       " -3996.5772,\n",
       " -3995.7225,\n",
       " -3993.1584,\n",
       " -3989.3733,\n",
       " -3987.9081,\n",
       " -3990.9606,\n",
       " -3994.3794,\n",
       " -3993.7689,\n",
       " -3992.0595,\n",
       " -3994.3794,\n",
       " -3999.2634,\n",
       " -4001.7054,\n",
       " -4001.3391,\n",
       " -4000.1181,\n",
       " -4000.3623000000002,\n",
       " -4001.4612,\n",
       " -4002.1938,\n",
       " -4003.2927,\n",
       " -4005.6126,\n",
       " -4007.0778,\n",
       " -4006.4673,\n",
       " -4005.8568,\n",
       " -4004.7579,\n",
       " -4002.0717,\n",
       " -4001.3391,\n",
       " -4002.5601,\n",
       " -4001.8275,\n",
       " -3999.7518,\n",
       " -3999.1413000000002,\n",
       " -4001.3391,\n",
       " -4004.3916,\n",
       " -4004.2695,\n",
       " -3999.2634,\n",
       " -3996.2109,\n",
       " -3997.3098,\n",
       " -3998.5308,\n",
       " -3998.0424,\n",
       " -3996.8214,\n",
       " -3994.8678,\n",
       " -3994.5015,\n",
       " -3996.333,\n",
       " -3997.0656,\n",
       " -3995.6004,\n",
       " -3994.5015,\n",
       " -3995.9667,\n",
       " -3997.7982,\n",
       " -3996.4551,\n",
       " -3995.9667,\n",
       " -3998.4087,\n",
       " -4001.9496,\n",
       " ...]"
      ]
     },
     "execution_count": 10,
     "metadata": {},
     "output_type": "execute_result"
    }
   ],
   "source": [
    "channel_trace.tolist()"
   ]
  },
  {
   "cell_type": "markdown",
   "metadata": {},
   "source": [
    "### Directly call the spike detection script"
   ]
  },
  {
   "cell_type": "code",
   "execution_count": 26,
   "metadata": {},
   "outputs": [],
   "source": [
    "spike_times = eng.detect_spikes_wavelet(matlab.double(channel_trace.tolist()), 25.0, \n",
    "                                       matlab.double([0.5, 1.0]), 2.0,\n",
    "                                      'c', 0.0, 'bior1.5', 0.0, 0.0)"
   ]
  },
  {
   "cell_type": "code",
   "execution_count": 28,
   "metadata": {},
   "outputs": [],
   "source": [
    "spike_times = np.asarray(spike_times)"
   ]
  },
  {
   "cell_type": "code",
   "execution_count": 29,
   "metadata": {},
   "outputs": [
    {
     "data": {
      "text/plain": [
       "array([[1312610., 2748775., 2779793., ..., 7499265., 7499357., 7499944.]])"
      ]
     },
     "execution_count": 29,
     "metadata": {},
     "output_type": "execute_result"
    }
   ],
   "source": [
    "spike_times"
   ]
  },
  {
   "cell_type": "markdown",
   "metadata": {},
   "source": [
    "# Some testing of the wavelets"
   ]
  },
  {
   "cell_type": "code",
   "execution_count": 53,
   "metadata": {},
   "outputs": [
    {
     "data": {
      "image/png": "[encoded data removed]",
      "text/plain": [
       "<Figure size 1080x720 with 1 Axes>"
      ]
     },
     "metadata": {
      "needs_background": "light"
     },
     "output_type": "display_data"
    }
   ],
   "source": [
    "# From: https://github.com/PyWavelets/pywt/blob/580d79d9440ec0f4f936892e39c79ad13a8fd33b/demo/cwt_analysis.py\n",
    "import numpy as np\n",
    "import matplotlib.pyplot as plt\n",
    "\n",
    "import pywt\n",
    "\n",
    "time, sst = pywt.data.nino()\n",
    "dt = time[1] - time[0]\n",
    "\n",
    "# Taken from http://nicolasfauchereau.github.io/climatecode/posts/wavelet-analysis-in-python/\n",
    "wavelet = 'cmor1.5-1.0'\n",
    "scales = np.arange(1, 128)\n",
    "\n",
    "[cfs, frequencies] = pywt.cwt(sst, scales, wavelet, dt)\n",
    "power = (abs(cfs)) ** 2\n",
    "\n",
    "period = 1. / frequencies\n",
    "levels = [0.0625, 0.125, 0.25, 0.5, 1, 2, 4, 8]\n",
    "f, ax = plt.subplots(figsize=(15, 10))\n",
    "ax.contourf(time, np.log2(period), np.log2(power), np.log2(levels),\n",
    "            extend='both')\n",
    "\n",
    "ax.set_title('%s Wavelet Power Spectrum (%s)' % ('Nino1+2', wavelet))\n",
    "ax.set_ylabel('Period (years)')\n",
    "Yticks = 2 ** np.arange(np.ceil(np.log2(period.min())),\n",
    "                        np.ceil(np.log2(period.max())))\n",
    "ax.set_yticks(np.log2(Yticks))\n",
    "ax.set_yticklabels(Yticks)\n",
    "ax.invert_yaxis()\n",
    "ylim = ax.get_ylim()\n",
    "ax.set_ylim(ylim[0], -1)\n",
    "\n",
    "plt.show()"
   ]
  },
  {
   "cell_type": "code",
   "execution_count": null,
   "metadata": {},
   "outputs": [],
   "source": []
  }
 ],
 "metadata": {
  "kernelspec": {
   "display_name": "Python 3",
   "language": "python",
   "name": "python3"
  },
  "language_info": {
   "codemirror_mode": {
    "name": "ipython",
    "version": 3
   },
   "file_extension": ".py",
   "mimetype": "text/x-python",
   "name": "python",
   "nbconvert_exporter": "python",
   "pygments_lexer": "ipython3",
   "version": "3.7.7"
  }
 },
 "nbformat": 4,
 "nbformat_minor": 4
}
